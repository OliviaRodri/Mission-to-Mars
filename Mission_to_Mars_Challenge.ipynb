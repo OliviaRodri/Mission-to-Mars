{
 "cells": [
  {
   "cell_type": "code",
   "execution_count": 1,
   "metadata": {},
   "outputs": [],
   "source": [
    "# Import Splinter and BeautifulSoup\n",
    "from splinter import Browser\n",
    "from bs4 import BeautifulSoup as soup\n",
    "import pandas as pd"
   ]
  },
  {
   "cell_type": "code",
   "execution_count": 2,
   "metadata": {},
   "outputs": [],
   "source": [
    "# Set the executable path and initialize the chrome browser in splinter\n",
    "executable_path = {'executable_path': 'chromedriver.exe'}\n",
    "browser = Browser('chrome', **executable_path)"
   ]
  },
  {
   "cell_type": "code",
   "execution_count": 3,
   "metadata": {},
   "outputs": [
    {
     "data": {
      "text/plain": [
       "True"
      ]
     },
     "execution_count": 3,
     "metadata": {},
     "output_type": "execute_result"
    }
   ],
   "source": [
    "# Visit the mars nasa news site\n",
    "url = 'https://mars.nasa.gov/news/'\n",
    "browser.visit(url)\n",
    "# Optional delay for loading the page\n",
    "browser.is_element_present_by_css(\"ul.item_list li.slide\", wait_time=1)"
   ]
  },
  {
   "cell_type": "code",
   "execution_count": 4,
   "metadata": {},
   "outputs": [],
   "source": [
    "#Convert the browser html to a soup object and then quit the browser\n",
    "html = browser.html\n",
    "news_soup = soup(html, 'html.parser')\n",
    "\n"
   ]
  },
  {
   "cell_type": "code",
   "execution_count": 5,
   "metadata": {},
   "outputs": [
    {
     "data": {
      "text/plain": [
       "<div class=\"content_title\"><a href=\"/news/8762/nasas-new-mars-rover-is-ready-for-space-lasers/\" target=\"_self\">NASA's New Mars Rover Is Ready for Space Lasers</a></div>"
      ]
     },
     "execution_count": 5,
     "metadata": {},
     "output_type": "execute_result"
    }
   ],
   "source": [
    "\n",
    "slide_elem = news_soup.select_one('ul.item_list li.slide')\n",
    "slide_elem.find(\"div\", class_='content_title')"
   ]
  },
  {
   "cell_type": "code",
   "execution_count": 8,
   "metadata": {},
   "outputs": [
    {
     "data": {
      "text/plain": [
       "\"NASA's New Mars Rover Is Ready for Space Lasers\""
      ]
     },
     "execution_count": 8,
     "metadata": {},
     "output_type": "execute_result"
    }
   ],
   "source": [
    "# Use the parent element to find the first `a` tag and save it as `news_title`\n",
    "news_title = slide_elem.find(\"div\", class_='content_title').get_text()\n",
    "news_title"
   ]
  },
  {
   "cell_type": "code",
   "execution_count": 9,
   "metadata": {},
   "outputs": [
    {
     "data": {
      "text/plain": [
       "'Perseverance is one of a few Mars spacecraft carrying laser retroreflectors. The devices could provide new science and safer Mars landings in the future.'"
      ]
     },
     "execution_count": 9,
     "metadata": {},
     "output_type": "execute_result"
    }
   ],
   "source": [
    "# Use the parent element to find the paragraph text\n",
    "news_p = slide_elem.find('div', class_=\"article_teaser_body\").get_text()\n",
    "news_p"
   ]
  },
  {
   "cell_type": "markdown",
   "metadata": {},
   "source": [
    "### Featured Images\n"
   ]
  },
  {
   "cell_type": "code",
   "execution_count": 10,
   "metadata": {},
   "outputs": [],
   "source": [
    "# Visit URL\n",
    "url = 'https://www.jpl.nasa.gov/spaceimages/?search=&category=Mars'\n",
    "browser.visit(url)"
   ]
  },
  {
   "cell_type": "code",
   "execution_count": 11,
   "metadata": {},
   "outputs": [],
   "source": [
    "# Find and click the full image button\n",
    "full_image_elem = browser.find_by_id('full_image')\n",
    "full_image_elem.click()"
   ]
  },
  {
   "cell_type": "code",
   "execution_count": 12,
   "metadata": {},
   "outputs": [],
   "source": [
    "# Find the more info button and click that\n",
    "browser.is_element_present_by_text('more info', wait_time=1)\n",
    "more_info_elem = browser.links.find_by_partial_text('more info')\n",
    "more_info_elem.click()"
   ]
  },
  {
   "cell_type": "code",
   "execution_count": 13,
   "metadata": {},
   "outputs": [],
   "source": [
    "# Parse the resulting html with soup\n",
    "html = browser.html\n",
    "img_soup = soup(html, 'html.parser')"
   ]
  },
  {
   "cell_type": "code",
   "execution_count": 14,
   "metadata": {},
   "outputs": [
    {
     "data": {
      "text/plain": [
       "'/spaceimages/images/largesize/PIA18884_hires.jpg'"
      ]
     },
     "execution_count": 14,
     "metadata": {},
     "output_type": "execute_result"
    }
   ],
   "source": [
    "# Find the relative image url\n",
    "img_url_rel = img_soup.select_one('figure.lede a img').get('src')\n",
    "img_url_rel"
   ]
  },
  {
   "cell_type": "code",
   "execution_count": 15,
   "metadata": {},
   "outputs": [
    {
     "data": {
      "text/plain": [
       "'https://www.jpl.nasa.gov/spaceimages/images/largesize/PIA18884_hires.jpg'"
      ]
     },
     "execution_count": 15,
     "metadata": {},
     "output_type": "execute_result"
    }
   ],
   "source": [
    "# Use the base URL to create an absolute URL\n",
    "img_url = f'https://www.jpl.nasa.gov{img_url_rel}'\n",
    "img_url"
   ]
  },
  {
   "cell_type": "code",
   "execution_count": 16,
   "metadata": {},
   "outputs": [
    {
     "data": {
      "text/html": [
       "<div>\n",
       "<style scoped>\n",
       "    .dataframe tbody tr th:only-of-type {\n",
       "        vertical-align: middle;\n",
       "    }\n",
       "\n",
       "    .dataframe tbody tr th {\n",
       "        vertical-align: top;\n",
       "    }\n",
       "\n",
       "    .dataframe thead th {\n",
       "        text-align: right;\n",
       "    }\n",
       "</style>\n",
       "<table border=\"1\" class=\"dataframe\">\n",
       "  <thead>\n",
       "    <tr style=\"text-align: right;\">\n",
       "      <th></th>\n",
       "      <th>value</th>\n",
       "    </tr>\n",
       "    <tr>\n",
       "      <th>description</th>\n",
       "      <th></th>\n",
       "    </tr>\n",
       "  </thead>\n",
       "  <tbody>\n",
       "    <tr>\n",
       "      <th>Equatorial Diameter:</th>\n",
       "      <td>6,792 km</td>\n",
       "    </tr>\n",
       "    <tr>\n",
       "      <th>Polar Diameter:</th>\n",
       "      <td>6,752 km</td>\n",
       "    </tr>\n",
       "    <tr>\n",
       "      <th>Mass:</th>\n",
       "      <td>6.39 × 10^23 kg (0.11 Earths)</td>\n",
       "    </tr>\n",
       "    <tr>\n",
       "      <th>Moons:</th>\n",
       "      <td>2 (Phobos &amp; Deimos)</td>\n",
       "    </tr>\n",
       "    <tr>\n",
       "      <th>Orbit Distance:</th>\n",
       "      <td>227,943,824 km (1.38 AU)</td>\n",
       "    </tr>\n",
       "    <tr>\n",
       "      <th>Orbit Period:</th>\n",
       "      <td>687 days (1.9 years)</td>\n",
       "    </tr>\n",
       "    <tr>\n",
       "      <th>Surface Temperature:</th>\n",
       "      <td>-87 to -5 °C</td>\n",
       "    </tr>\n",
       "    <tr>\n",
       "      <th>First Record:</th>\n",
       "      <td>2nd millennium BC</td>\n",
       "    </tr>\n",
       "    <tr>\n",
       "      <th>Recorded By:</th>\n",
       "      <td>Egyptian astronomers</td>\n",
       "    </tr>\n",
       "  </tbody>\n",
       "</table>\n",
       "</div>"
      ],
      "text/plain": [
       "                                              value\n",
       "description                                        \n",
       "Equatorial Diameter:                       6,792 km\n",
       "Polar Diameter:                            6,752 km\n",
       "Mass:                 6.39 × 10^23 kg (0.11 Earths)\n",
       "Moons:                          2 (Phobos & Deimos)\n",
       "Orbit Distance:            227,943,824 km (1.38 AU)\n",
       "Orbit Period:                  687 days (1.9 years)\n",
       "Surface Temperature:                   -87 to -5 °C\n",
       "First Record:                     2nd millennium BC\n",
       "Recorded By:                   Egyptian astronomers"
      ]
     },
     "execution_count": 16,
     "metadata": {},
     "output_type": "execute_result"
    }
   ],
   "source": [
    "df = pd.read_html('http://space-facts.com/mars/')[0]\n",
    "df.columns=['description', 'value']\n",
    "df.set_index('description', inplace=True)\n",
    "df"
   ]
  },
  {
   "cell_type": "code",
   "execution_count": 17,
   "metadata": {},
   "outputs": [
    {
     "data": {
      "text/plain": [
       "'<table border=\"1\" class=\"dataframe\">\\n  <thead>\\n    <tr style=\"text-align: right;\">\\n      <th></th>\\n      <th>value</th>\\n    </tr>\\n    <tr>\\n      <th>description</th>\\n      <th></th>\\n    </tr>\\n  </thead>\\n  <tbody>\\n    <tr>\\n      <th>Equatorial Diameter:</th>\\n      <td>6,792 km</td>\\n    </tr>\\n    <tr>\\n      <th>Polar Diameter:</th>\\n      <td>6,752 km</td>\\n    </tr>\\n    <tr>\\n      <th>Mass:</th>\\n      <td>6.39 × 10^23 kg (0.11 Earths)</td>\\n    </tr>\\n    <tr>\\n      <th>Moons:</th>\\n      <td>2 (Phobos &amp; Deimos)</td>\\n    </tr>\\n    <tr>\\n      <th>Orbit Distance:</th>\\n      <td>227,943,824 km (1.38 AU)</td>\\n    </tr>\\n    <tr>\\n      <th>Orbit Period:</th>\\n      <td>687 days (1.9 years)</td>\\n    </tr>\\n    <tr>\\n      <th>Surface Temperature:</th>\\n      <td>-87 to -5 °C</td>\\n    </tr>\\n    <tr>\\n      <th>First Record:</th>\\n      <td>2nd millennium BC</td>\\n    </tr>\\n    <tr>\\n      <th>Recorded By:</th>\\n      <td>Egyptian astronomers</td>\\n    </tr>\\n  </tbody>\\n</table>'"
      ]
     },
     "execution_count": 17,
     "metadata": {},
     "output_type": "execute_result"
    }
   ],
   "source": [
    "df.to_html()"
   ]
  },
  {
   "cell_type": "code",
   "execution_count": 18,
   "metadata": {},
   "outputs": [],
   "source": [
    "browser.quit()"
   ]
  },
  {
   "cell_type": "code",
   "execution_count": null,
   "metadata": {},
   "outputs": [],
   "source": []
  },
  {
   "cell_type": "code",
   "execution_count": 54,
   "metadata": {
    "tags": []
   },
   "outputs": [
    {
     "output_type": "stream",
     "name": "stdout",
     "text": "&lt;table class=&quot;mb_table&quot; id=&quot;weather_observation&quot; style=&quot;width:100%;&quot;&gt;\n &lt;thead&gt;\n  &lt;tr&gt;\n   &lt;th colspan=&quot;2&quot; scope=&quot;col&quot;&gt;\n    Time\n   &lt;/th&gt;\n   &lt;th colspan=&quot;3&quot; id=&quot;temperature_lbl&quot; scope=&quot;col&quot;&gt;\n    Air Temperature (\n    &lt;span class=&quot;lbl_fahrenheit&quot;&gt;\n     °F\n    &lt;/span&gt;\n    &lt;span class=&quot;slash&quot;&gt;\n     |\n    &lt;/span&gt;\n    &lt;span class=&quot;lbl_celsius fadeBlack&quot;&gt;\n     °C\n    &lt;/span&gt;\n    )\n   &lt;/th&gt;\n   &lt;th colspan=&quot;4&quot; id=&quot;windspeed_lbl&quot; scope=&quot;col&quot;&gt;\n    Wind Speed (\n    &lt;span class=&quot;lbl_mph&quot;&gt;\n     mph\n    &lt;/span&gt;\n    &lt;span class=&quot;slash&quot;&gt;\n     |\n    &lt;/span&gt;\n    &lt;span class=&quot;lbl_mps fadeBlack&quot;&gt;\n     m/s\n    &lt;/span&gt;\n    )\n   &lt;/th&gt;\n   &lt;th colspan=&quot;3&quot; id=&quot;pressure_lbl&quot; scope=&quot;col&quot;&gt;\n    Pressure (Pa)\n   &lt;/th&gt;\n  &lt;/tr&gt;\n &lt;/thead&gt;\n &lt;tbody&gt;\n  &lt;tr id=&quot;weather_top&quot;&gt;\n   &lt;th class=&quot;sol&quot; scope=&quot;row&quot;&gt;\n    Date\n   &lt;/th&gt;\n   &lt;th class=&quot;sol&quot; scope=&quot;row&quot;&gt;\n    Sol\n   &lt;/th&gt;\n   &lt;td class=&quot;temperature max&quot;&gt;\n    Max.\n   &lt;/td&gt;\n   &lt;td class=&quot;temperature avg&quot;&gt;\n    Avg.\n   &lt;/td&gt;\n   &lt;td class=&quot;temperature min&quot;&gt;\n    Min.\n   &lt;/td&gt;\n   &lt;td class=&quot;windspeed max&quot;&gt;\n    Max.\n   &lt;/td&gt;\n   &lt;td class=&quot;windspeed avg&quot;&gt;\n    Avg.\n   &lt;/td&gt;\n   &lt;td class=&quot;windspeed min&quot;&gt;\n    Min.\n   &lt;/td&gt;\n   &lt;td class=&quot;windspeed direction&quot;&gt;\n    Direction\n    &lt;br/&gt;\n    &lt;span style=&quot;font-size:x-small&quot;&gt;\n     (most common)\n    &lt;/span&gt;\n   &lt;/td&gt;\n   &lt;td class=&quot;pressure max&quot;&gt;\n    Max.\n   &lt;/td&gt;\n   &lt;td class=&quot;pressure avg&quot;&gt;\n    Avg.\n   &lt;/td&gt;\n   &lt;td class=&quot;pressure min&quot;&gt;\n    Min.\n   &lt;/td&gt;\n  &lt;/tr&gt;\n  &lt;tr&gt;\n   &lt;th class=&quot;sol&quot; scope=&quot;row&quot;&gt;\n    Oct. 1, 2020\n   &lt;/th&gt;\n   &lt;th class=&quot;sol&quot; scope=&quot;row&quot;&gt;\n    657\n   &lt;/th&gt;\n   &lt;td class=&quot;temperature max&quot;&gt;\n    &lt;span class=&quot;fahrenheit&quot;&gt;\n     &lt;nobr&gt;\n      -0.3° F\n     &lt;/nobr&gt;\n    &lt;/span&gt;\n    &lt;span class=&quot;celsius&quot; style=&quot;display: none;&quot;&gt;\n     &lt;nobr&gt;\n      -18° C\n     &lt;/nobr&gt;\n    &lt;/span&gt;\n   &lt;/td&gt;\n   &lt;td class=&quot;temperature avg&quot;&gt;\n    &lt;span class=&quot;fahrenheit&quot;&gt;\n     &lt;nobr&gt;\n      -92.8° F\n     &lt;/nobr&gt;\n    &lt;/span&gt;\n    &lt;span class=&quot;celsius&quot; style=&quot;display: none;&quot;&gt;\n     &lt;nobr&gt;\n      -69.3° C\n     &lt;/nobr&gt;\n    &lt;/span&gt;\n   &lt;/td&gt;\n   &lt;td class=&quot;temperature min&quot;&gt;\n    &lt;span class=&quot;fahrenheit&quot;&gt;\n     &lt;nobr&gt;\n      -142.9° F\n     &lt;/nobr&gt;\n    &lt;/span&gt;\n    &lt;span class=&quot;celsius&quot; style=&quot;display: none;&quot;&gt;\n     &lt;nobr&gt;\n      -97.2° C\n     &lt;/nobr&gt;\n    &lt;/span&gt;\n   &lt;/td&gt;\n   &lt;td class=&quot;windspeed max&quot;&gt;\n    &lt;span class=&quot;mph&quot;&gt;\n     51.7\n    &lt;/span&gt;\n    &lt;span class=&quot;mps&quot; style=&quot;display:none&quot;&gt;\n     23.1\n    &lt;/span&gt;\n   &lt;/td&gt;\n   &lt;td class=&quot;windspeed avg&quot;&gt;\n    &lt;span class=&quot;mph&quot;&gt;\n     17.9\n    &lt;/span&gt;\n    &lt;span class=&quot;mps&quot; style=&quot;display:none&quot;&gt;\n     8\n    &lt;/span&gt;\n   &lt;/td&gt;\n   &lt;td class=&quot;windspeed min&quot;&gt;\n    &lt;span class=&quot;mph&quot;&gt;\n     1.2\n    &lt;/span&gt;\n    &lt;span class=&quot;mps&quot; style=&quot;display:none&quot;&gt;\n     0.5\n    &lt;/span&gt;\n   &lt;/td&gt;\n   &lt;td class=&quot;windspeed point&quot;&gt;\n    WNW\n   &lt;/td&gt;\n   &lt;td class=&quot;pressure max&quot;&gt;\n    780\n   &lt;/td&gt;\n   &lt;td class=&quot;pressure avg&quot;&gt;\n    763.6\n   &lt;/td&gt;\n   &lt;td class=&quot;pressure min&quot;&gt;\n    732\n   &lt;/td&gt;\n  &lt;/tr&gt;\n  &lt;tr&gt;\n   &lt;th class=&quot;sol&quot; scope=&quot;row&quot;&gt;\n    Sep. 30, 2020\n   &lt;/th&gt;\n   &lt;th class=&quot;sol&quot; scope=&quot;row&quot;&gt;\n    656\n   &lt;/th&gt;\n   &lt;td class=&quot;temperature max&quot;&gt;\n    &lt;span class=&quot;fahrenheit&quot;&gt;\n     &lt;nobr&gt;\n      -3.3° F\n     &lt;/nobr&gt;\n    &lt;/span&gt;\n    &lt;span class=&quot;celsius&quot; style=&quot;display: none;&quot;&gt;\n     &lt;nobr&gt;\n      -19.6° C\n     &lt;/nobr&gt;\n    &lt;/span&gt;\n   &lt;/td&gt;\n   &lt;td class=&quot;temperature avg&quot;&gt;\n    &lt;span class=&quot;fahrenheit&quot;&gt;\n     &lt;nobr&gt;\n      -83.1° F\n     &lt;/nobr&gt;\n    &lt;/span&gt;\n    &lt;span class=&quot;celsius&quot; style=&quot;display: none;&quot;&gt;\n     &lt;nobr&gt;\n      -63.9° C\n     &lt;/nobr&gt;\n    &lt;/span&gt;\n   &lt;/td&gt;\n   &lt;td class=&quot;temperature min&quot;&gt;\n    &lt;span class=&quot;fahrenheit&quot;&gt;\n     &lt;nobr&gt;\n      -143.1° F\n     &lt;/nobr&gt;\n    &lt;/span&gt;\n    &lt;span class=&quot;celsius&quot; style=&quot;display: none;&quot;&gt;\n     &lt;nobr&gt;\n      -97.3° C\n     &lt;/nobr&gt;\n    &lt;/span&gt;\n   &lt;/td&gt;\n   &lt;td class=&quot;windspeed max&quot;&gt;\n    &lt;span class=&quot;mph&quot;&gt;\n     49\n    &lt;/span&gt;\n    &lt;span class=&quot;mps&quot; style=&quot;display:none&quot;&gt;\n     21.9\n    &lt;/span&gt;\n   &lt;/td&gt;\n   &lt;td class=&quot;windspeed avg&quot;&gt;\n    &lt;span class=&quot;mph&quot;&gt;\n     19.2\n    &lt;/span&gt;\n    &lt;span class=&quot;mps&quot; style=&quot;display:none&quot;&gt;\n     8.6\n    &lt;/span&gt;\n   &lt;/td&gt;\n   &lt;td class=&quot;windspeed min&quot;&gt;\n    &lt;span class=&quot;mph&quot;&gt;\n     2.4\n    &lt;/span&gt;\n    &lt;span class=&quot;mps&quot; style=&quot;display:none&quot;&gt;\n     1.1\n    &lt;/span&gt;\n   &lt;/td&gt;\n   &lt;td class=&quot;windspeed point&quot;&gt;\n    WNW\n   &lt;/td&gt;\n   &lt;td class=&quot;pressure max&quot;&gt;\n    783\n   &lt;/td&gt;\n   &lt;td class=&quot;pressure avg&quot;&gt;\n    765.1\n   &lt;/td&gt;\n   &lt;td class=&quot;pressure min&quot;&gt;\n    735.9\n   &lt;/td&gt;\n  &lt;/tr&gt;\n  &lt;tr&gt;\n   &lt;th class=&quot;sol&quot; scope=&quot;row&quot;&gt;\n    Sep. 29, 2020\n   &lt;/th&gt;\n   &lt;th class=&quot;sol&quot; scope=&quot;row&quot;&gt;\n    655\n   &lt;/th&gt;\n   &lt;td class=&quot;temperature max&quot;&gt;\n    &lt;span class=&quot;fahrenheit&quot;&gt;\n     &lt;nobr&gt;\n      -0.3° F\n     &lt;/nobr&gt;\n    &lt;/span&gt;\n    &lt;span class=&quot;celsius&quot; style=&quot;display: none;&quot;&gt;\n     &lt;nobr&gt;\n      -18° C\n     &lt;/nobr&gt;\n    &lt;/span&gt;\n   &lt;/td&gt;\n   &lt;td class=&quot;temperature avg&quot;&gt;\n    &lt;span class=&quot;fahrenheit&quot;&gt;\n     &lt;nobr&gt;\n      -82.2° F\n     &lt;/nobr&gt;\n    &lt;/span&gt;\n    &lt;span class=&quot;celsius&quot; style=&quot;display: none;&quot;&gt;\n     &lt;nobr&gt;\n      -63.5° C\n     &lt;/nobr&gt;\n    &lt;/span&gt;\n   &lt;/td&gt;\n   &lt;td class=&quot;temperature min&quot;&gt;\n    &lt;span class=&quot;fahrenheit&quot;&gt;\n     &lt;nobr&gt;\n      -139.5° F\n     &lt;/nobr&gt;\n    &lt;/span&gt;\n    &lt;span class=&quot;celsius&quot; style=&quot;display: none;&quot;&gt;\n     &lt;nobr&gt;\n      -95.3° C\n     &lt;/nobr&gt;\n    &lt;/span&gt;\n   &lt;/td&gt;\n   &lt;td class=&quot;windspeed max&quot;&gt;\n    &lt;span class=&quot;mph&quot;&gt;\n     47.4\n    &lt;/span&gt;\n    &lt;span class=&quot;mps&quot; style=&quot;display:none&quot;&gt;\n     21.2\n    &lt;/span&gt;\n   &lt;/td&gt;\n   &lt;td class=&quot;windspeed avg&quot;&gt;\n    &lt;span class=&quot;mph&quot;&gt;\n     19.3\n    &lt;/span&gt;\n    &lt;span class=&quot;mps&quot; style=&quot;display:none&quot;&gt;\n     8.6\n    &lt;/span&gt;\n   &lt;/td&gt;\n   &lt;td class=&quot;windspeed min&quot;&gt;\n    &lt;span class=&quot;mph&quot;&gt;\n     3.4\n    &lt;/span&gt;\n    &lt;span class=&quot;mps&quot; style=&quot;display:none&quot;&gt;\n     1.5\n    &lt;/span&gt;\n   &lt;/td&gt;\n   &lt;td class=&quot;windspeed point&quot;&gt;\n    WNW\n   &lt;/td&gt;\n   &lt;td class=&quot;pressure max&quot;&gt;\n    783.3\n   &lt;/td&gt;\n   &lt;td class=&quot;pressure avg&quot;&gt;\n    766.1\n   &lt;/td&gt;\n   &lt;td class=&quot;pressure min&quot;&gt;\n    734.2\n   &lt;/td&gt;\n  &lt;/tr&gt;\n  &lt;tr&gt;\n   &lt;th class=&quot;sol&quot; scope=&quot;row&quot;&gt;\n    Sep. 28, 2020\n   &lt;/th&gt;\n   &lt;th class=&quot;sol&quot; scope=&quot;row&quot;&gt;\n    654\n   &lt;/th&gt;\n   &lt;td class=&quot;temperature max&quot;&gt;\n    &lt;span class=&quot;fahrenheit&quot;&gt;\n     &lt;nobr&gt;\n      4° F\n     &lt;/nobr&gt;\n    &lt;/span&gt;\n    &lt;span class=&quot;celsius&quot; style=&quot;display: none;&quot;&gt;\n     &lt;nobr&gt;\n      -15.5° C\n     &lt;/nobr&gt;\n    &lt;/span&gt;\n   &lt;/td&gt;\n   &lt;td class=&quot;temperature avg&quot;&gt;\n    &lt;span class=&quot;fahrenheit&quot;&gt;\n     &lt;nobr&gt;\n      -81.3° F\n     &lt;/nobr&gt;\n    &lt;/span&gt;\n    &lt;span class=&quot;celsius&quot; style=&quot;display: none;&quot;&gt;\n     &lt;nobr&gt;\n      -62.9° C\n     &lt;/nobr&gt;\n    &lt;/span&gt;\n   &lt;/td&gt;\n   &lt;td class=&quot;temperature min&quot;&gt;\n    &lt;span class=&quot;fahrenheit&quot;&gt;\n     &lt;nobr&gt;\n      -140.5° F\n     &lt;/nobr&gt;\n    &lt;/span&gt;\n    &lt;span class=&quot;celsius&quot; style=&quot;display: none;&quot;&gt;\n     &lt;nobr&gt;\n      -95.8° C\n     &lt;/nobr&gt;\n    &lt;/span&gt;\n   &lt;/td&gt;\n   &lt;td class=&quot;windspeed max&quot;&gt;\n    &lt;span class=&quot;mph&quot;&gt;\n     46.4\n    &lt;/span&gt;\n    &lt;span class=&quot;mps&quot; style=&quot;display:none&quot;&gt;\n     20.8\n    &lt;/span&gt;\n   &lt;/td&gt;\n   &lt;td class=&quot;windspeed avg&quot;&gt;\n    &lt;span class=&quot;mph&quot;&gt;\n     15.2\n    &lt;/span&gt;\n    &lt;span class=&quot;mps&quot; style=&quot;display:none&quot;&gt;\n     6.8\n    &lt;/span&gt;\n   &lt;/td&gt;\n   &lt;td class=&quot;windspeed min&quot;&gt;\n    &lt;span class=&quot;mph&quot;&gt;\n     1.7\n    &lt;/span&gt;\n    &lt;span class=&quot;mps&quot; style=&quot;display:none&quot;&gt;\n     0.8\n    &lt;/span&gt;\n   &lt;/td&gt;\n   &lt;td class=&quot;windspeed point&quot;&gt;\n    WNW\n   &lt;/td&gt;\n   &lt;td class=&quot;pressure max&quot;&gt;\n    779.4\n   &lt;/td&gt;\n   &lt;td class=&quot;pressure avg&quot;&gt;\n    763.2\n   &lt;/td&gt;\n   &lt;td class=&quot;pressure min&quot;&gt;\n    735.7\n   &lt;/td&gt;\n  &lt;/tr&gt;\n  &lt;tr&gt;\n   &lt;th class=&quot;sol&quot; scope=&quot;row&quot;&gt;\n    Sep. 27, 2020\n   &lt;/th&gt;\n   &lt;th class=&quot;sol&quot; scope=&quot;row&quot;&gt;\n    653\n   &lt;/th&gt;\n   &lt;td class=&quot;temperature max&quot;&gt;\n    &lt;span class=&quot;fahrenheit&quot;&gt;\n     &lt;nobr&gt;\n      13° F\n     &lt;/nobr&gt;\n    &lt;/span&gt;\n    &lt;span class=&quot;celsius&quot; style=&quot;display: none;&quot;&gt;\n     &lt;nobr&gt;\n      -10.6° C\n     &lt;/nobr&gt;\n    &lt;/span&gt;\n   &lt;/td&gt;\n   &lt;td class=&quot;temperature avg&quot;&gt;\n    &lt;span class=&quot;fahrenheit&quot;&gt;\n     &lt;nobr&gt;\n      -90.9° F\n     &lt;/nobr&gt;\n    &lt;/span&gt;\n    &lt;span class=&quot;celsius&quot; style=&quot;display: none;&quot;&gt;\n     &lt;nobr&gt;\n      -68.3° C\n     &lt;/nobr&gt;\n    &lt;/span&gt;\n   &lt;/td&gt;\n   &lt;td class=&quot;temperature min&quot;&gt;\n    &lt;span class=&quot;fahrenheit&quot;&gt;\n     &lt;nobr&gt;\n      -141.3° F\n     &lt;/nobr&gt;\n    &lt;/span&gt;\n    &lt;span class=&quot;celsius&quot; style=&quot;display: none;&quot;&gt;\n     &lt;nobr&gt;\n      -96.3° C\n     &lt;/nobr&gt;\n    &lt;/span&gt;\n   &lt;/td&gt;\n   &lt;td class=&quot;windspeed max&quot;&gt;\n    &lt;span class=&quot;mph&quot;&gt;\n     40.2\n    &lt;/span&gt;\n    &lt;span class=&quot;mps&quot; style=&quot;display:none&quot;&gt;\n     18\n    &lt;/span&gt;\n   &lt;/td&gt;\n   &lt;td class=&quot;windspeed avg&quot;&gt;\n    &lt;span class=&quot;mph&quot;&gt;\n     13.3\n    &lt;/span&gt;\n    &lt;span class=&quot;mps&quot; style=&quot;display:none&quot;&gt;\n     6\n    &lt;/span&gt;\n   &lt;/td&gt;\n   &lt;td class=&quot;windspeed min&quot;&gt;\n    &lt;span class=&quot;mph&quot;&gt;\n     0.5\n    &lt;/span&gt;\n    &lt;span class=&quot;mps&quot; style=&quot;display:none&quot;&gt;\n     0.2\n    &lt;/span&gt;\n   &lt;/td&gt;\n   &lt;td class=&quot;windspeed point&quot;&gt;\n    W\n   &lt;/td&gt;\n   &lt;td class=&quot;pressure max&quot;&gt;\n    780.8\n   &lt;/td&gt;\n   &lt;td class=&quot;pressure avg&quot;&gt;\n    763.7\n   &lt;/td&gt;\n   &lt;td class=&quot;pressure min&quot;&gt;\n    735.6\n   &lt;/td&gt;\n  &lt;/tr&gt;\n  &lt;tr&gt;\n   &lt;th class=&quot;sol&quot; scope=&quot;row&quot;&gt;\n    Sep. 26, 2020\n   &lt;/th&gt;\n   &lt;th class=&quot;sol&quot; scope=&quot;row&quot;&gt;\n    652\n   &lt;/th&gt;\n   &lt;td class=&quot;temperature max&quot;&gt;\n    &lt;span class=&quot;fahrenheit&quot;&gt;\n     &lt;nobr&gt;\n      4° F\n     &lt;/nobr&gt;\n    &lt;/span&gt;\n    &lt;span class=&quot;celsius&quot; style=&quot;display: none;&quot;&gt;\n     &lt;nobr&gt;\n      -15.6° C\n     &lt;/nobr&gt;\n    &lt;/span&gt;\n   &lt;/td&gt;\n   &lt;td class=&quot;temperature avg&quot;&gt;\n    &lt;span class=&quot;fahrenheit&quot;&gt;\n     &lt;nobr&gt;\n      -82.1° F\n     &lt;/nobr&gt;\n    &lt;/span&gt;\n    &lt;span class=&quot;celsius&quot; style=&quot;display: none;&quot;&gt;\n     &lt;nobr&gt;\n      -63.4° C\n     &lt;/nobr&gt;\n    &lt;/span&gt;\n   &lt;/td&gt;\n   &lt;td class=&quot;temperature min&quot;&gt;\n    &lt;span class=&quot;fahrenheit&quot;&gt;\n     &lt;nobr&gt;\n      -141° F\n     &lt;/nobr&gt;\n    &lt;/span&gt;\n    &lt;span class=&quot;celsius&quot; style=&quot;display: none;&quot;&gt;\n     &lt;nobr&gt;\n      -96.1° C\n     &lt;/nobr&gt;\n    &lt;/span&gt;\n   &lt;/td&gt;\n   &lt;td class=&quot;windspeed max&quot;&gt;\n    &lt;span class=&quot;mph&quot;&gt;\n     41.6\n    &lt;/span&gt;\n    &lt;span class=&quot;mps&quot; style=&quot;display:none&quot;&gt;\n     18.6\n    &lt;/span&gt;\n   &lt;/td&gt;\n   &lt;td class=&quot;windspeed avg&quot;&gt;\n    &lt;span class=&quot;mph&quot;&gt;\n     14.3\n    &lt;/span&gt;\n    &lt;span class=&quot;mps&quot; style=&quot;display:none&quot;&gt;\n     6.4\n    &lt;/span&gt;\n   &lt;/td&gt;\n   &lt;td class=&quot;windspeed min&quot;&gt;\n    &lt;span class=&quot;mph&quot;&gt;\n     0.6\n    &lt;/span&gt;\n    &lt;span class=&quot;mps&quot; style=&quot;display:none&quot;&gt;\n     0.3\n    &lt;/span&gt;\n   &lt;/td&gt;\n   &lt;td class=&quot;windspeed point&quot;&gt;\n    WNW\n   &lt;/td&gt;\n   &lt;td class=&quot;pressure max&quot;&gt;\n    779.1\n   &lt;/td&gt;\n   &lt;td class=&quot;pressure avg&quot;&gt;\n    762.2\n   &lt;/td&gt;\n   &lt;td class=&quot;pressure min&quot;&gt;\n    734.8\n   &lt;/td&gt;\n  &lt;/tr&gt;\n  &lt;tr&gt;\n   &lt;th class=&quot;sol&quot; scope=&quot;row&quot;&gt;\n    Sep. 25, 2020\n   &lt;/th&gt;\n   &lt;th class=&quot;sol&quot; scope=&quot;row&quot;&gt;\n    651\n   &lt;/th&gt;\n   &lt;td class=&quot;temperature max&quot;&gt;\n    &lt;span class=&quot;fahrenheit&quot;&gt;\n     &lt;nobr&gt;\n      3.4° F\n     &lt;/nobr&gt;\n    &lt;/span&gt;\n    &lt;span class=&quot;celsius&quot; style=&quot;display: none;&quot;&gt;\n     &lt;nobr&gt;\n      -15.9° C\n     &lt;/nobr&gt;\n    &lt;/span&gt;\n   &lt;/td&gt;\n   &lt;td class=&quot;temperature avg&quot;&gt;\n    &lt;span class=&quot;fahrenheit&quot;&gt;\n     &lt;nobr&gt;\n      -79.5° F\n     &lt;/nobr&gt;\n    &lt;/span&gt;\n    &lt;span class=&quot;celsius&quot; style=&quot;display: none;&quot;&gt;\n     &lt;nobr&gt;\n      -62° C\n     &lt;/nobr&gt;\n    &lt;/span&gt;\n   &lt;/td&gt;\n   &lt;td class=&quot;temperature min&quot;&gt;\n    &lt;span class=&quot;fahrenheit&quot;&gt;\n     &lt;nobr&gt;\n      -142.1° F\n     &lt;/nobr&gt;\n    &lt;/span&gt;\n    &lt;span class=&quot;celsius&quot; style=&quot;display: none;&quot;&gt;\n     &lt;nobr&gt;\n      -96.7° C\n     &lt;/nobr&gt;\n    &lt;/span&gt;\n   &lt;/td&gt;\n   &lt;td class=&quot;windspeed max&quot;&gt;\n    &lt;span class=&quot;mph&quot;&gt;\n     45.3\n    &lt;/span&gt;\n    &lt;span class=&quot;mps&quot; style=&quot;display:none&quot;&gt;\n     20.3\n    &lt;/span&gt;\n   &lt;/td&gt;\n   &lt;td class=&quot;windspeed avg&quot;&gt;\n    &lt;span class=&quot;mph&quot;&gt;\n     15.7\n    &lt;/span&gt;\n    &lt;span class=&quot;mps&quot; style=&quot;display:none&quot;&gt;\n     7\n    &lt;/span&gt;\n   &lt;/td&gt;\n   &lt;td class=&quot;windspeed min&quot;&gt;\n    &lt;span class=&quot;mph&quot;&gt;\n     0.6\n    &lt;/span&gt;\n    &lt;span class=&quot;mps&quot; style=&quot;display:none&quot;&gt;\n     0.2\n    &lt;/span&gt;\n   &lt;/td&gt;\n   &lt;td class=&quot;windspeed point&quot;&gt;\n    WNW\n   &lt;/td&gt;\n   &lt;td class=&quot;pressure max&quot;&gt;\n    781.5\n   &lt;/td&gt;\n   &lt;td class=&quot;pressure avg&quot;&gt;\n    764.7\n   &lt;/td&gt;\n   &lt;td class=&quot;pressure min&quot;&gt;\n    736.8\n   &lt;/td&gt;\n  &lt;/tr&gt;\n &lt;/tbody&gt;\n&lt;/table&gt;\n&lt;splinter.element_list.ElementList object at 0x000002DBFFA122B0&gt;\n"
    },
    {
     "output_type": "error",
     "ename": "ElementNotInteractableException",
     "evalue": "Message: element not interactable: element has zero size\n  (Session info: chrome=85.0.4183.121)\n",
     "traceback": [
      "\u001b[1;31m---------------------------------------------------------------------------\u001b[0m",
      "\u001b[1;31mElementNotInteractableException\u001b[0m           Traceback (most recent call last)",
      "\u001b[1;32m&lt;ipython-input-54-4ddbb5bc9efb&gt;\u001b[0m in \u001b[0;36m&lt;module&gt;\u001b[1;34m\u001b[0m\n\u001b[0;32m    106\u001b[0m \u001b[0mimage_url\u001b[0m \u001b[1;33m=\u001b[0m \u001b[0mbrowser\u001b[0m\u001b[1;33m.\u001b[0m\u001b[0mlinks\u001b[0m\u001b[1;33m.\u001b[0m\u001b[0mfind_by_partial_href\u001b[0m\u001b[1;33m(\u001b[0m\u001b[1;34m&quot;search/map/Mars&quot;\u001b[0m\u001b[1;33m)\u001b[0m\u001b[1;33m\u001b[0m\u001b[1;33m\u001b[0m\u001b[0m\n\u001b[0;32m    107\u001b[0m \u001b[0mprint\u001b[0m\u001b[1;33m(\u001b[0m\u001b[0mimage_url\u001b[0m\u001b[1;33m)\u001b[0m\u001b[1;33m\u001b[0m\u001b[1;33m\u001b[0m\u001b[0m\n\u001b[1;32m--&gt; 108\u001b[1;33m \u001b[0mimage_url\u001b[0m\u001b[1;33m.\u001b[0m\u001b[0mclick\u001b[0m\u001b[1;33m(\u001b[0m\u001b[1;33m)\u001b[0m\u001b[1;33m\u001b[0m\u001b[1;33m\u001b[0m\u001b[0m\n\u001b[0m\u001b[0;32m    109\u001b[0m &#39;&#39;&#39;\n\u001b[0;32m    110\u001b[0m \u001b[0mhtml\u001b[0m \u001b[1;33m=\u001b[0m \u001b[0mbrowser\u001b[0m\u001b[1;33m.\u001b[0m\u001b[0mhtml\u001b[0m\u001b[1;33m\u001b[0m\u001b[1;33m\u001b[0m\u001b[0m\n",
      "\u001b[1;32mC:\\Anaconda3\\envs\\PythonData\\lib\\site-packages\\splinter\\driver\\webdriver\\__init__.py\u001b[0m in \u001b[0;36mclick\u001b[1;34m(self)\u001b[0m\n\u001b[0;32m    786\u001b[0m                 \u001b[0merror\u001b[0m \u001b[1;33m=\u001b[0m \u001b[0me\u001b[0m\u001b[1;33m\u001b[0m\u001b[1;33m\u001b[0m\u001b[0m\n\u001b[0;32m    787\u001b[0m \u001b[1;33m\u001b[0m\u001b[0m\n\u001b[1;32m--&gt; 788\u001b[1;33m         \u001b[1;32mraise\u001b[0m \u001b[0merror\u001b[0m\u001b[1;33m\u001b[0m\u001b[1;33m\u001b[0m\u001b[0m\n\u001b[0m\u001b[0;32m    789\u001b[0m \u001b[1;33m\u001b[0m\u001b[0m\n\u001b[0;32m    790\u001b[0m     \u001b[1;32mdef\u001b[0m \u001b[0mcheck\u001b[0m\u001b[1;33m(\u001b[0m\u001b[0mself\u001b[0m\u001b[1;33m)\u001b[0m\u001b[1;33m:\u001b[0m\u001b[1;33m\u001b[0m\u001b[1;33m\u001b[0m\u001b[0m\n",
      "\u001b[1;32mC:\\Anaconda3\\envs\\PythonData\\lib\\site-packages\\splinter\\driver\\webdriver\\__init__.py\u001b[0m in \u001b[0;36mclick\u001b[1;34m(self)\u001b[0m\n\u001b[0;32m    779\u001b[0m         \u001b[1;32mwhile\u001b[0m \u001b[0mtime\u001b[0m\u001b[1;33m.\u001b[0m\u001b[0mtime\u001b[0m\u001b[1;33m(\u001b[0m\u001b[1;33m)\u001b[0m \u001b[1;33m&lt;\u001b[0m \u001b[0mend_time\u001b[0m\u001b[1;33m:\u001b[0m\u001b[1;33m\u001b[0m\u001b[1;33m\u001b[0m\u001b[0m\n\u001b[0;32m    780\u001b[0m             \u001b[1;32mtry\u001b[0m\u001b[1;33m:\u001b[0m\u001b[1;33m\u001b[0m\u001b[1;33m\u001b[0m\u001b[0m\n\u001b[1;32m--&gt; 781\u001b[1;33m                 \u001b[1;32mreturn\u001b[0m \u001b[0mself\u001b[0m\u001b[1;33m.\u001b[0m\u001b[0m_element\u001b[0m\u001b[1;33m.\u001b[0m\u001b[0mclick\u001b[0m\u001b[1;33m(\u001b[0m\u001b[1;33m)\u001b[0m\u001b[1;33m\u001b[0m\u001b[1;33m\u001b[0m\u001b[0m\n\u001b[0m\u001b[0;32m    782\u001b[0m             except(\n\u001b[0;32m    783\u001b[0m                 \u001b[0mElementClickInterceptedException\u001b[0m\u001b[1;33m,\u001b[0m\u001b[1;33m\u001b[0m\u001b[1;33m\u001b[0m\u001b[0m\n",
      "\u001b[1;32mC:\\Anaconda3\\envs\\PythonData\\lib\\site-packages\\selenium\\webdriver\\remote\\webelement.py\u001b[0m in \u001b[0;36mclick\u001b[1;34m(self)\u001b[0m\n\u001b[0;32m     78\u001b[0m     \u001b[1;32mdef\u001b[0m \u001b[0mclick\u001b[0m\u001b[1;33m(\u001b[0m\u001b[0mself\u001b[0m\u001b[1;33m)\u001b[0m\u001b[1;33m:\u001b[0m\u001b[1;33m\u001b[0m\u001b[1;33m\u001b[0m\u001b[0m\n\u001b[0;32m     79\u001b[0m         \u001b[1;34m&quot;&quot;&quot;Clicks the element.&quot;&quot;&quot;\u001b[0m\u001b[1;33m\u001b[0m\u001b[1;33m\u001b[0m\u001b[0m\n\u001b[1;32m---&gt; 80\u001b[1;33m         \u001b[0mself\u001b[0m\u001b[1;33m.\u001b[0m\u001b[0m_execute\u001b[0m\u001b[1;33m(\u001b[0m\u001b[0mCommand\u001b[0m\u001b[1;33m.\u001b[0m\u001b[0mCLICK_ELEMENT\u001b[0m\u001b[1;33m)\u001b[0m\u001b[1;33m\u001b[0m\u001b[1;33m\u001b[0m\u001b[0m\n\u001b[0m\u001b[0;32m     81\u001b[0m \u001b[1;33m\u001b[0m\u001b[0m\n\u001b[0;32m     82\u001b[0m     \u001b[1;32mdef\u001b[0m \u001b[0msubmit\u001b[0m\u001b[1;33m(\u001b[0m\u001b[0mself\u001b[0m\u001b[1;33m)\u001b[0m\u001b[1;33m:\u001b[0m\u001b[1;33m\u001b[0m\u001b[1;33m\u001b[0m\u001b[0m\n",
      "\u001b[1;32mC:\\Anaconda3\\envs\\PythonData\\lib\\site-packages\\selenium\\webdriver\\remote\\webelement.py\u001b[0m in \u001b[0;36m_execute\u001b[1;34m(self, command, params)\u001b[0m\n\u001b[0;32m    631\u001b[0m             \u001b[0mparams\u001b[0m \u001b[1;33m=\u001b[0m \u001b[1;33m{\u001b[0m\u001b[1;33m}\u001b[0m\u001b[1;33m\u001b[0m\u001b[1;33m\u001b[0m\u001b[0m\n\u001b[0;32m    632\u001b[0m         \u001b[0mparams\u001b[0m\u001b[1;33m[\u001b[0m\u001b[1;34m&#39;id&#39;\u001b[0m\u001b[1;33m]\u001b[0m \u001b[1;33m=\u001b[0m \u001b[0mself\u001b[0m\u001b[1;33m.\u001b[0m\u001b[0m_id\u001b[0m\u001b[1;33m\u001b[0m\u001b[1;33m\u001b[0m\u001b[0m\n\u001b[1;32m--&gt; 633\u001b[1;33m         \u001b[1;32mreturn\u001b[0m \u001b[0mself\u001b[0m\u001b[1;33m.\u001b[0m\u001b[0m_parent\u001b[0m\u001b[1;33m.\u001b[0m\u001b[0mexecute\u001b[0m\u001b[1;33m(\u001b[0m\u001b[0mcommand\u001b[0m\u001b[1;33m,\u001b[0m \u001b[0mparams\u001b[0m\u001b[1;33m)\u001b[0m\u001b[1;33m\u001b[0m\u001b[1;33m\u001b[0m\u001b[0m\n\u001b[0m\u001b[0;32m    634\u001b[0m \u001b[1;33m\u001b[0m\u001b[0m\n\u001b[0;32m    635\u001b[0m     \u001b[1;32mdef\u001b[0m \u001b[0mfind_element\u001b[0m\u001b[1;33m(\u001b[0m\u001b[0mself\u001b[0m\u001b[1;33m,\u001b[0m \u001b[0mby\u001b[0m\u001b[1;33m=\u001b[0m\u001b[0mBy\u001b[0m\u001b[1;33m.\u001b[0m\u001b[0mID\u001b[0m\u001b[1;33m,\u001b[0m \u001b[0mvalue\u001b[0m\u001b[1;33m=\u001b[0m\u001b[1;32mNone\u001b[0m\u001b[1;33m)\u001b[0m\u001b[1;33m:\u001b[0m\u001b[1;33m\u001b[0m\u001b[1;33m\u001b[0m\u001b[0m\n",
      "\u001b[1;32mC:\\Anaconda3\\envs\\PythonData\\lib\\site-packages\\selenium\\webdriver\\remote\\webdriver.py\u001b[0m in \u001b[0;36mexecute\u001b[1;34m(self, driver_command, params)\u001b[0m\n\u001b[0;32m    319\u001b[0m         \u001b[0mresponse\u001b[0m \u001b[1;33m=\u001b[0m \u001b[0mself\u001b[0m\u001b[1;33m.\u001b[0m\u001b[0mcommand_executor\u001b[0m\u001b[1;33m.\u001b[0m\u001b[0mexecute\u001b[0m\u001b[1;33m(\u001b[0m\u001b[0mdriver_command\u001b[0m\u001b[1;33m,\u001b[0m \u001b[0mparams\u001b[0m\u001b[1;33m)\u001b[0m\u001b[1;33m\u001b[0m\u001b[1;33m\u001b[0m\u001b[0m\n\u001b[0;32m    320\u001b[0m         \u001b[1;32mif\u001b[0m \u001b[0mresponse\u001b[0m\u001b[1;33m:\u001b[0m\u001b[1;33m\u001b[0m\u001b[1;33m\u001b[0m\u001b[0m\n\u001b[1;32m--&gt; 321\u001b[1;33m             \u001b[0mself\u001b[0m\u001b[1;33m.\u001b[0m\u001b[0merror_handler\u001b[0m\u001b[1;33m.\u001b[0m\u001b[0mcheck_response\u001b[0m\u001b[1;33m(\u001b[0m\u001b[0mresponse\u001b[0m\u001b[1;33m)\u001b[0m\u001b[1;33m\u001b[0m\u001b[1;33m\u001b[0m\u001b[0m\n\u001b[0m\u001b[0;32m    322\u001b[0m             response[&#39;value&#39;] = self._unwrap_value(\n\u001b[0;32m    323\u001b[0m                 response.get(&#39;value&#39;, None))\n",
      "\u001b[1;32mC:\\Anaconda3\\envs\\PythonData\\lib\\site-packages\\selenium\\webdriver\\remote\\errorhandler.py\u001b[0m in \u001b[0;36mcheck_response\u001b[1;34m(self, response)\u001b[0m\n\u001b[0;32m    240\u001b[0m                 \u001b[0malert_text\u001b[0m \u001b[1;33m=\u001b[0m \u001b[0mvalue\u001b[0m\u001b[1;33m[\u001b[0m\u001b[1;34m&#39;alert&#39;\u001b[0m\u001b[1;33m]\u001b[0m\u001b[1;33m.\u001b[0m\u001b[0mget\u001b[0m\u001b[1;33m(\u001b[0m\u001b[1;34m&#39;text&#39;\u001b[0m\u001b[1;33m)\u001b[0m\u001b[1;33m\u001b[0m\u001b[1;33m\u001b[0m\u001b[0m\n\u001b[0;32m    241\u001b[0m             \u001b[1;32mraise\u001b[0m \u001b[0mexception_class\u001b[0m\u001b[1;33m(\u001b[0m\u001b[0mmessage\u001b[0m\u001b[1;33m,\u001b[0m \u001b[0mscreen\u001b[0m\u001b[1;33m,\u001b[0m \u001b[0mstacktrace\u001b[0m\u001b[1;33m,\u001b[0m \u001b[0malert_text\u001b[0m\u001b[1;33m)\u001b[0m\u001b[1;33m\u001b[0m\u001b[1;33m\u001b[0m\u001b[0m\n\u001b[1;32m--&gt; 242\u001b[1;33m         \u001b[1;32mraise\u001b[0m \u001b[0mexception_class\u001b[0m\u001b[1;33m(\u001b[0m\u001b[0mmessage\u001b[0m\u001b[1;33m,\u001b[0m \u001b[0mscreen\u001b[0m\u001b[1;33m,\u001b[0m \u001b[0mstacktrace\u001b[0m\u001b[1;33m)\u001b[0m\u001b[1;33m\u001b[0m\u001b[1;33m\u001b[0m\u001b[0m\n\u001b[0m\u001b[0;32m    243\u001b[0m \u001b[1;33m\u001b[0m\u001b[0m\n\u001b[0;32m    244\u001b[0m     \u001b[1;32mdef\u001b[0m \u001b[0m_value_or_default\u001b[0m\u001b[1;33m(\u001b[0m\u001b[0mself\u001b[0m\u001b[1;33m,\u001b[0m \u001b[0mobj\u001b[0m\u001b[1;33m,\u001b[0m \u001b[0mkey\u001b[0m\u001b[1;33m,\u001b[0m \u001b[0mdefault\u001b[0m\u001b[1;33m)\u001b[0m\u001b[1;33m:\u001b[0m\u001b[1;33m\u001b[0m\u001b[1;33m\u001b[0m\u001b[0m\n",
      "\u001b[1;31mElementNotInteractableException\u001b[0m: Message: element not interactable: element has zero size\n  (Session info: chrome=85.0.4183.121)\n"
     ]
    }
   ],
   "source": [
    "# Import Splinter, BeautifulSoup, and Pandas\n",
    "from splinter import Browser\n",
    "from bs4 import BeautifulSoup as soup\n",
    "import pandas as pd\n",
    "\n",
    "# Path to chromedriver\n",
    "#!which chromedriver\n",
    "\n",
    "# Set the executable path and initialize the chrome browser in splinter\n",
    "executable_path = {'executable_path': 'chromedriver.exe'}\n",
    "browser = Browser('chrome', **executable_path)\n",
    "\n",
    "### Visit the NASA Mars News Site\n",
    "\n",
    "# Visit the mars nasa news site\n",
    "url = 'https://mars.nasa.gov/news/'\n",
    "browser.visit(url)\n",
    "\n",
    "# Optional delay for loading the page\n",
    "browser.is_element_present_by_css(\"ul.item_list li.slide\", wait_time=1)\n",
    "\n",
    "# Convert the browser html to a soup object and then quit the browser\n",
    "html = browser.html\n",
    "news_soup = soup(html, 'html.parser')\n",
    "\n",
    "slide_elem = news_soup.select_one('ul.item_list li.slide')\n",
    "\n",
    "slide_elem.find(\"div\", class_='content_title')\n",
    "\n",
    "# Use the parent element to find the first a tag and save it as `news_title`\n",
    "news_title = slide_elem.find(\"div\", class_='content_title').get_text()\n",
    "news_title\n",
    "\n",
    "# Use the parent element to find the paragraph text\n",
    "news_p = slide_elem.find('div', class_=\"article_teaser_body\").get_text()\n",
    "news_p\n",
    "\n",
    "### JPL Space Images Featured Image\n",
    "\n",
    "# Visit URL\n",
    "url = 'https://www.jpl.nasa.gov/spaceimages/?search=&category=Mars'\n",
    "browser.visit(url)\n",
    "\n",
    "# Find and click the full image button\n",
    "full_image_elem = browser.find_by_id('full_image')\n",
    "full_image_elem.click()\n",
    "\n",
    "# Find the more info button and click that\n",
    "browser.is_element_present_by_text('more info', wait_time=1)\n",
    "more_info_elem = browser.links.find_by_partial_text('more info')\n",
    "more_info_elem.click()\n",
    "\n",
    "# Parse the resulting html with soup\n",
    "html = browser.html\n",
    "img_soup = soup(html, 'html.parser')\n",
    "\n",
    "# find the relative image url\n",
    "img_url_rel = img_soup.select_one('figure.lede a img').get(\"src\")\n",
    "img_url_rel\n",
    "\n",
    "# Use the base url to create an absolute url\n",
    "img_url = f'https://www.jpl.nasa.gov{img_url_rel}'\n",
    "img_url\n",
    "\n",
    "### Mars Facts\n",
    "\n",
    "df = pd.read_html('http://space-facts.com/mars/')[0]\n",
    "\n",
    "df.head()\n",
    "\n",
    "df.columns=['Description', 'Mars']\n",
    "df.set_index('Description', inplace=True)\n",
    "df\n",
    "\n",
    "df.to_html()\n",
    "\n",
    "### Mars Weather\n",
    "\n",
    "# Visit the weather website\n",
    "url = 'https://mars.nasa.gov/insight/weather/'\n",
    "browser.visit(url)\n",
    "\n",
    "# Parse the data\n",
    "html = browser.html\n",
    "weather_soup = soup(html, 'html.parser')\n",
    "\n",
    "# Scrape the Daily Weather Report table\n",
    "weather_table = weather_soup.find('table', class_='mb_table')\n",
    "print(weather_table.prettify())\n",
    "\n",
    "# D1: Scrape High-Resolution Mars’ Hemisphere Images and Titles\n",
    "\n",
    "### Hemispheres\n",
    "\n",
    "# 1. Use browser to visit the URL \n",
    "url = 'https://astrogeology.usgs.gov/search/results?q=hemisphere+enhanced&k1=target&v1=Mars'\n",
    "browser.visit(url)\n",
    "\n",
    "# 2. Create a list to hold the images and titles.\n",
    "hemisphere_image_urls = []\n",
    "\n",
    "# 3. Write code to retrieve the image urls and titles for each hemisphere.\n",
    "# Find and click the full image button\n",
    "#full_image_elem = browser.find_by_id('full_image')[0]\n",
    "#full_image_elem.click()\n",
    "image_url = browser.links.find_by_partial_href(\"search/map/Mars\")\n",
    "print(image_url)\n",
    "image_url.click()\n",
    "'''\n",
    "html = browser.html\n",
    "html_soup = soup(html, \"html.parser\")\n",
    "# Scrape the top ten tags\n",
    "image = html_soup.find('div', class_='item')\n",
    "# tag_box\n",
    "tags = image.find_all('a', class_='itemLink product-item')\n",
    "print(tags)\n",
    "\n",
    "for tag in tags:\n",
    "    tag.click()\n",
    "    html = browser.html\n",
    "    html_soup = soup(html, \"html.parser\")\n",
    "    url_image = html_soup.find('href').text\n",
    "    print(url_image)\n",
    "    hemisphere_image_urls.append(url_image)\n",
    "    browser.back()\n",
    "    '''\n",
    "# 4. Print the list that holds the dictionary of each image url and title.\n",
    "#hemisphere_image_urls\n",
    "\n",
    "# 5. Quit the browser\n",
    "#browser.quit()"
   ]
  },
  {
   "cell_type": "code",
   "execution_count": 51,
   "metadata": {},
   "outputs": [],
   "source": [
    "browser.quit()"
   ]
  },
  {
   "cell_type": "code",
   "execution_count": 55,
   "metadata": {
    "tags": []
   },
   "outputs": [
    {
     "output_type": "stream",
     "name": "stdout",
     "text": "&lt;splinter.element_list.ElementList object at 0x000002DBFE81EE10&gt;\n"
    },
    {
     "output_type": "execute_result",
     "data": {
      "text/plain": "&#39;\\nfor tag in tags:\\n    tag.click()\\n    html = browser.html\\n    html_soup = soup(html, &quot;html.parser&quot;)\\n    url_image = html_soup.find(\\&#39;href\\&#39;).text\\n    print(url_image)\\n    hemisphere_image_urls.append(url_image)\\n    browser.back()\\n    \\n    &#39;"
     },
     "metadata": {},
     "execution_count": 55
    }
   ],
   "source": [
    "url = 'https://astrogeology.usgs.gov/search/results?q=hemisphere+enhanced&k1=target&v1=Mars'\n",
    "browser.visit(url)\n",
    "\n",
    "# 2. Create a list to hold the images and titles.\n",
    "hemisphere_image_urls = []\n",
    "\n",
    "# 3. Write code to retrieve the image urls and titles for each hemisphere.\n",
    "# Find and click the full image button\n",
    "#full_image_elem = browser.find_by_id('full_image')[0]\n",
    "#full_image_elem.click()\n",
    "html = browser.html\n",
    "html_soup = soup(html, \"html.parser\")\n",
    "# Scrape the top ten tags\n",
    "image = html_soup.find_all('div', class_='item')\n",
    "image_url = browser.links.find_by_partial_href(\"search\")\n",
    "print(image_url)\n",
    "image_url.click()\n",
    "#print(image)\n",
    "# tag_box\n",
    "#tags = image.find('a', class_= \"href\")\n",
    "#print(\"--------------------------------\")\n",
    "#print(tags)\n",
    "#print(\"--------------------------------\")\n",
    "'''\n",
    "for tag in tags:\n",
    "    tag.click()\n",
    "    html = browser.html\n",
    "    html_soup = soup(html, \"html.parser\")\n",
    "    url_image = html_soup.find('href').text\n",
    "    print(url_image)\n",
    "    hemisphere_image_urls.append(url_image)\n",
    "    browser.back()\n",
    "    \n",
    "    '''\n",
    "# 4. Print the list that holds the dictionary of each image url and title.\n",
    "#hemisphere_image_urls\n",
    "\n",
    "# 5. Quit the browser\n",
    "#browser.quit()"
   ]
  },
  {
   "cell_type": "code",
   "execution_count": 56,
   "metadata": {},
   "outputs": [],
   "source": [
    "browser.quit()"
   ]
  },
  {
   "cell_type": "code",
   "execution_count": 26,
   "metadata": {
    "tags": []
   },
   "outputs": [
    {
     "output_type": "stream",
     "name": "stdout",
     "text": "&lt;div class=&quot;item&quot;&gt;&lt;a class=&quot;itemLink product-item&quot; href=&quot;/search/map/Mars/Viking/cerberus_enhanced&quot;&gt;&lt;img alt=&quot;Cerberus Hemisphere Enhanced thumbnail&quot; class=&quot;thumb&quot; src=&quot;/cache/images/39d3266553462198bd2fbc4d18fbed17_cerberus_enhanced.tif_thumb.png&quot;/&gt;&lt;/a&gt;&lt;div class=&quot;description&quot;&gt;&lt;a class=&quot;itemLink product-item&quot; href=&quot;/search/map/Mars/Viking/cerberus_enhanced&quot;&gt;&lt;h3&gt;Cerberus Hemisphere Enhanced&lt;/h3&gt;&lt;/a&gt;&lt;span class=&quot;subtitle&quot; style=&quot;float:left&quot;&gt;image/tiff 21 MB&lt;/span&gt;&lt;span class=&quot;pubDate&quot; style=&quot;float:right&quot;&gt;&lt;/span&gt;&lt;br/&gt;&lt;p&gt;Mosaic of the Cerberus hemisphere of Mars projected into point perspective, a view similar to that which one would see from a spacecraft. This mosaic is composed of 104 Viking Orbiter images acquired…&lt;/p&gt;&lt;/div&gt; &lt;!-- end description --&gt;&lt;/div&gt;\n"
    }
   ],
   "source": [
    "image = html_soup.find('div', class_='item')#.get(\"src\")\n",
    "print(image)"
   ]
  },
  {
   "cell_type": "code",
   "execution_count": 32,
   "metadata": {
    "tags": []
   },
   "outputs": [
    {
     "output_type": "stream",
     "name": "stdout",
     "text": "None\n"
    }
   ],
   "source": [
    "tags = image.select_one('div.item a img').get(\"href\")\n",
    "#print(\"--------------------------------\")\n",
    "print(tags)"
   ]
  },
  {
   "cell_type": "code",
   "execution_count": null,
   "metadata": {},
   "outputs": [],
   "source": []
  }
 ],
 "metadata": {
  "kernelspec": {
   "display_name": "PythonData",
   "language": "python",
   "name": "pythondata"
  },
  "language_info": {
   "codemirror_mode": {
    "name": "ipython",
    "version": 3
   },
   "file_extension": ".py",
   "mimetype": "text/x-python",
   "name": "python",
   "nbconvert_exporter": "python",
   "pygments_lexer": "ipython3",
   "version": "3.6.10-final"
  }
 },
 "nbformat": 4,
 "nbformat_minor": 4
}