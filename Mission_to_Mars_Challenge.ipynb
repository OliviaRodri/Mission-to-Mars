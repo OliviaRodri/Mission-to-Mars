{
 "cells": [
  {
   "cell_type": "code",
   "execution_count": 1,
   "metadata": {},
   "outputs": [],
   "source": [
    "# Import Splinter and BeautifulSoup\n",
    "from splinter import Browser\n",
    "from bs4 import BeautifulSoup as soup\n",
    "import pandas as pd"
   ]
  },
  {
   "cell_type": "code",
   "execution_count": 2,
   "metadata": {},
   "outputs": [],
   "source": [
    "# Set the executable path and initialize the chrome browser in splinter\n",
    "executable_path = {'executable_path': 'chromedriver.exe'}\n",
    "browser = Browser('chrome', **executable_path)"
   ]
  },
  {
   "cell_type": "code",
   "execution_count": 3,
   "metadata": {},
   "outputs": [
    {
     "data": {
      "text/plain": [
       "True"
      ]
     },
     "execution_count": 3,
     "metadata": {},
     "output_type": "execute_result"
    }
   ],
   "source": [
    "# Visit the mars nasa news site\n",
    "url = 'https://mars.nasa.gov/news/'\n",
    "browser.visit(url)\n",
    "# Optional delay for loading the page\n",
    "browser.is_element_present_by_css(\"ul.item_list li.slide\", wait_time=1)"
   ]
  },
  {
   "cell_type": "code",
   "execution_count": 4,
   "metadata": {},
   "outputs": [],
   "source": [
    "#Convert the browser html to a soup object and then quit the browser\n",
    "html = browser.html\n",
    "news_soup = soup(html, 'html.parser')\n",
    "\n"
   ]
  },
  {
   "cell_type": "code",
   "execution_count": 5,
   "metadata": {},
   "outputs": [
    {
     "data": {
      "text/plain": [
       "<div class=\"content_title\"><a href=\"/news/8762/nasas-new-mars-rover-is-ready-for-space-lasers/\" target=\"_self\">NASA's New Mars Rover Is Ready for Space Lasers</a></div>"
      ]
     },
     "execution_count": 5,
     "metadata": {},
     "output_type": "execute_result"
    }
   ],
   "source": [
    "\n",
    "slide_elem = news_soup.select_one('ul.item_list li.slide')\n",
    "slide_elem.find(\"div\", class_='content_title')"
   ]
  },
  {
   "cell_type": "code",
   "execution_count": 8,
   "metadata": {},
   "outputs": [
    {
     "data": {
      "text/plain": [
       "\"NASA's New Mars Rover Is Ready for Space Lasers\""
      ]
     },
     "execution_count": 8,
     "metadata": {},
     "output_type": "execute_result"
    }
   ],
   "source": [
    "# Use the parent element to find the first `a` tag and save it as `news_title`\n",
    "news_title = slide_elem.find(\"div\", class_='content_title').get_text()\n",
    "news_title"
   ]
  },
  {
   "cell_type": "code",
   "execution_count": 9,
   "metadata": {},
   "outputs": [
    {
     "data": {
      "text/plain": [
       "'Perseverance is one of a few Mars spacecraft carrying laser retroreflectors. The devices could provide new science and safer Mars landings in the future.'"
      ]
     },
     "execution_count": 9,
     "metadata": {},
     "output_type": "execute_result"
    }
   ],
   "source": [
    "# Use the parent element to find the paragraph text\n",
    "news_p = slide_elem.find('div', class_=\"article_teaser_body\").get_text()\n",
    "news_p"
   ]
  },
  {
   "cell_type": "markdown",
   "metadata": {},
   "source": [
    "### Featured Images\n"
   ]
  },
  {
   "cell_type": "code",
   "execution_count": 10,
   "metadata": {},
   "outputs": [],
   "source": [
    "# Visit URL\n",
    "url = 'https://www.jpl.nasa.gov/spaceimages/?search=&category=Mars'\n",
    "browser.visit(url)"
   ]
  },
  {
   "cell_type": "code",
   "execution_count": 11,
   "metadata": {},
   "outputs": [],
   "source": [
    "# Find and click the full image button\n",
    "full_image_elem = browser.find_by_id('full_image')\n",
    "full_image_elem.click()"
   ]
  },
  {
   "cell_type": "code",
   "execution_count": 12,
   "metadata": {},
   "outputs": [],
   "source": [
    "# Find the more info button and click that\n",
    "browser.is_element_present_by_text('more info', wait_time=1)\n",
    "more_info_elem = browser.links.find_by_partial_text('more info')\n",
    "more_info_elem.click()"
   ]
  },
  {
   "cell_type": "code",
   "execution_count": 13,
   "metadata": {},
   "outputs": [],
   "source": [
    "# Parse the resulting html with soup\n",
    "html = browser.html\n",
    "img_soup = soup(html, 'html.parser')"
   ]
  },
  {
   "cell_type": "code",
   "execution_count": 14,
   "metadata": {},
   "outputs": [
    {
     "data": {
      "text/plain": [
       "'/spaceimages/images/largesize/PIA18884_hires.jpg'"
      ]
     },
     "execution_count": 14,
     "metadata": {},
     "output_type": "execute_result"
    }
   ],
   "source": [
    "# Find the relative image url\n",
    "img_url_rel = img_soup.select_one('figure.lede a img').get('src')\n",
    "img_url_rel"
   ]
  },
  {
   "cell_type": "code",
   "execution_count": 15,
   "metadata": {},
   "outputs": [
    {
     "data": {
      "text/plain": [
       "'https://www.jpl.nasa.gov/spaceimages/images/largesize/PIA18884_hires.jpg'"
      ]
     },
     "execution_count": 15,
     "metadata": {},
     "output_type": "execute_result"
    }
   ],
   "source": [
    "# Use the base URL to create an absolute URL\n",
    "img_url = f'https://www.jpl.nasa.gov{img_url_rel}'\n",
    "img_url"
   ]
  },
  {
   "cell_type": "code",
   "execution_count": 16,
   "metadata": {},
   "outputs": [
    {
     "data": {
      "text/html": [
       "<div>\n",
       "<style scoped>\n",
       "    .dataframe tbody tr th:only-of-type {\n",
       "        vertical-align: middle;\n",
       "    }\n",
       "\n",
       "    .dataframe tbody tr th {\n",
       "        vertical-align: top;\n",
       "    }\n",
       "\n",
       "    .dataframe thead th {\n",
       "        text-align: right;\n",
       "    }\n",
       "</style>\n",
       "<table border=\"1\" class=\"dataframe\">\n",
       "  <thead>\n",
       "    <tr style=\"text-align: right;\">\n",
       "      <th></th>\n",
       "      <th>value</th>\n",
       "    </tr>\n",
       "    <tr>\n",
       "      <th>description</th>\n",
       "      <th></th>\n",
       "    </tr>\n",
       "  </thead>\n",
       "  <tbody>\n",
       "    <tr>\n",
       "      <th>Equatorial Diameter:</th>\n",
       "      <td>6,792 km</td>\n",
       "    </tr>\n",
       "    <tr>\n",
       "      <th>Polar Diameter:</th>\n",
       "      <td>6,752 km</td>\n",
       "    </tr>\n",
       "    <tr>\n",
       "      <th>Mass:</th>\n",
       "      <td>6.39 × 10^23 kg (0.11 Earths)</td>\n",
       "    </tr>\n",
       "    <tr>\n",
       "      <th>Moons:</th>\n",
       "      <td>2 (Phobos &amp; Deimos)</td>\n",
       "    </tr>\n",
       "    <tr>\n",
       "      <th>Orbit Distance:</th>\n",
       "      <td>227,943,824 km (1.38 AU)</td>\n",
       "    </tr>\n",
       "    <tr>\n",
       "      <th>Orbit Period:</th>\n",
       "      <td>687 days (1.9 years)</td>\n",
       "    </tr>\n",
       "    <tr>\n",
       "      <th>Surface Temperature:</th>\n",
       "      <td>-87 to -5 °C</td>\n",
       "    </tr>\n",
       "    <tr>\n",
       "      <th>First Record:</th>\n",
       "      <td>2nd millennium BC</td>\n",
       "    </tr>\n",
       "    <tr>\n",
       "      <th>Recorded By:</th>\n",
       "      <td>Egyptian astronomers</td>\n",
       "    </tr>\n",
       "  </tbody>\n",
       "</table>\n",
       "</div>"
      ],
      "text/plain": [
       "                                              value\n",
       "description                                        \n",
       "Equatorial Diameter:                       6,792 km\n",
       "Polar Diameter:                            6,752 km\n",
       "Mass:                 6.39 × 10^23 kg (0.11 Earths)\n",
       "Moons:                          2 (Phobos & Deimos)\n",
       "Orbit Distance:            227,943,824 km (1.38 AU)\n",
       "Orbit Period:                  687 days (1.9 years)\n",
       "Surface Temperature:                   -87 to -5 °C\n",
       "First Record:                     2nd millennium BC\n",
       "Recorded By:                   Egyptian astronomers"
      ]
     },
     "execution_count": 16,
     "metadata": {},
     "output_type": "execute_result"
    }
   ],
   "source": [
    "df = pd.read_html('http://space-facts.com/mars/')[0]\n",
    "df.columns=['description', 'value']\n",
    "df.set_index('description', inplace=True)\n",
    "df"
   ]
  },
  {
   "cell_type": "code",
   "execution_count": 17,
   "metadata": {},
   "outputs": [
    {
     "data": {
      "text/plain": [
       "'<table border=\"1\" class=\"dataframe\">\\n  <thead>\\n    <tr style=\"text-align: right;\">\\n      <th></th>\\n      <th>value</th>\\n    </tr>\\n    <tr>\\n      <th>description</th>\\n      <th></th>\\n    </tr>\\n  </thead>\\n  <tbody>\\n    <tr>\\n      <th>Equatorial Diameter:</th>\\n      <td>6,792 km</td>\\n    </tr>\\n    <tr>\\n      <th>Polar Diameter:</th>\\n      <td>6,752 km</td>\\n    </tr>\\n    <tr>\\n      <th>Mass:</th>\\n      <td>6.39 × 10^23 kg (0.11 Earths)</td>\\n    </tr>\\n    <tr>\\n      <th>Moons:</th>\\n      <td>2 (Phobos &amp; Deimos)</td>\\n    </tr>\\n    <tr>\\n      <th>Orbit Distance:</th>\\n      <td>227,943,824 km (1.38 AU)</td>\\n    </tr>\\n    <tr>\\n      <th>Orbit Period:</th>\\n      <td>687 days (1.9 years)</td>\\n    </tr>\\n    <tr>\\n      <th>Surface Temperature:</th>\\n      <td>-87 to -5 °C</td>\\n    </tr>\\n    <tr>\\n      <th>First Record:</th>\\n      <td>2nd millennium BC</td>\\n    </tr>\\n    <tr>\\n      <th>Recorded By:</th>\\n      <td>Egyptian astronomers</td>\\n    </tr>\\n  </tbody>\\n</table>'"
      ]
     },
     "execution_count": 17,
     "metadata": {},
     "output_type": "execute_result"
    }
   ],
   "source": [
    "df.to_html()"
   ]
  },
  {
   "cell_type": "code",
   "execution_count": 18,
   "metadata": {},
   "outputs": [],
   "source": [
    "browser.quit()"
   ]
  },
  {
   "cell_type": "code",
   "execution_count": null,
   "metadata": {},
   "outputs": [],
   "source": []
  },
  {
   "cell_type": "code",
   "execution_count": 9,
   "metadata": {
    "tags": []
   },
   "outputs": [
    {
     "output_type": "stream",
     "name": "stdout",
     "text": "&lt;table class=&quot;mb_table&quot; id=&quot;weather_observation&quot; style=&quot;width:100%;&quot;&gt;\n &lt;thead&gt;\n  &lt;tr&gt;\n   &lt;th colspan=&quot;2&quot; scope=&quot;col&quot;&gt;\n    Time\n   &lt;/th&gt;\n   &lt;th colspan=&quot;3&quot; id=&quot;temperature_lbl&quot; scope=&quot;col&quot;&gt;\n    Air Temperature (\n    &lt;span class=&quot;lbl_fahrenheit&quot;&gt;\n     °F\n    &lt;/span&gt;\n    &lt;span class=&quot;slash&quot;&gt;\n     |\n    &lt;/span&gt;\n    &lt;span class=&quot;lbl_celsius fadeBlack&quot;&gt;\n     °C\n    &lt;/span&gt;\n    )\n   &lt;/th&gt;\n   &lt;th colspan=&quot;4&quot; id=&quot;windspeed_lbl&quot; scope=&quot;col&quot;&gt;\n    Wind Speed (\n    &lt;span class=&quot;lbl_mph&quot;&gt;\n     mph\n    &lt;/span&gt;\n    &lt;span class=&quot;slash&quot;&gt;\n     |\n    &lt;/span&gt;\n    &lt;span class=&quot;lbl_mps fadeBlack&quot;&gt;\n     m/s\n    &lt;/span&gt;\n    )\n   &lt;/th&gt;\n   &lt;th colspan=&quot;3&quot; id=&quot;pressure_lbl&quot; scope=&quot;col&quot;&gt;\n    Pressure (Pa)\n   &lt;/th&gt;\n  &lt;/tr&gt;\n &lt;/thead&gt;\n &lt;tbody&gt;\n  &lt;tr id=&quot;weather_top&quot;&gt;\n   &lt;th class=&quot;sol&quot; scope=&quot;row&quot;&gt;\n    Date\n   &lt;/th&gt;\n   &lt;th class=&quot;sol&quot; scope=&quot;row&quot;&gt;\n    Sol\n   &lt;/th&gt;\n   &lt;td class=&quot;temperature max&quot;&gt;\n    Max.\n   &lt;/td&gt;\n   &lt;td class=&quot;temperature avg&quot;&gt;\n    Avg.\n   &lt;/td&gt;\n   &lt;td class=&quot;temperature min&quot;&gt;\n    Min.\n   &lt;/td&gt;\n   &lt;td class=&quot;windspeed max&quot;&gt;\n    Max.\n   &lt;/td&gt;\n   &lt;td class=&quot;windspeed avg&quot;&gt;\n    Avg.\n   &lt;/td&gt;\n   &lt;td class=&quot;windspeed min&quot;&gt;\n    Min.\n   &lt;/td&gt;\n   &lt;td class=&quot;windspeed direction&quot;&gt;\n    Direction\n    &lt;br/&gt;\n    &lt;span style=&quot;font-size:x-small&quot;&gt;\n     (most common)\n    &lt;/span&gt;\n   &lt;/td&gt;\n   &lt;td class=&quot;pressure max&quot;&gt;\n    Max.\n   &lt;/td&gt;\n   &lt;td class=&quot;pressure avg&quot;&gt;\n    Avg.\n   &lt;/td&gt;\n   &lt;td class=&quot;pressure min&quot;&gt;\n    Min.\n   &lt;/td&gt;\n  &lt;/tr&gt;\n  &lt;tr&gt;\n   &lt;th class=&quot;sol&quot; scope=&quot;row&quot;&gt;\n    Oct. 2, 2020\n   &lt;/th&gt;\n   &lt;th class=&quot;sol&quot; scope=&quot;row&quot;&gt;\n    658\n   &lt;/th&gt;\n   &lt;td class=&quot;temperature max&quot;&gt;\n    &lt;span class=&quot;fahrenheit&quot;&gt;\n     &lt;nobr&gt;\n      5.6° F\n     &lt;/nobr&gt;\n    &lt;/span&gt;\n    &lt;span class=&quot;celsius&quot; style=&quot;display: none;&quot;&gt;\n     &lt;nobr&gt;\n      -14.7° C\n     &lt;/nobr&gt;\n    &lt;/span&gt;\n   &lt;/td&gt;\n   &lt;td class=&quot;temperature avg&quot;&gt;\n    &lt;span class=&quot;fahrenheit&quot;&gt;\n     &lt;nobr&gt;\n      -92.6° F\n     &lt;/nobr&gt;\n    &lt;/span&gt;\n    &lt;span class=&quot;celsius&quot; style=&quot;display: none;&quot;&gt;\n     &lt;nobr&gt;\n      -69.2° C\n     &lt;/nobr&gt;\n    &lt;/span&gt;\n   &lt;/td&gt;\n   &lt;td class=&quot;temperature min&quot;&gt;\n    &lt;span class=&quot;fahrenheit&quot;&gt;\n     &lt;nobr&gt;\n      -141.9° F\n     &lt;/nobr&gt;\n    &lt;/span&gt;\n    &lt;span class=&quot;celsius&quot; style=&quot;display: none;&quot;&gt;\n     &lt;nobr&gt;\n      -96.6° C\n     &lt;/nobr&gt;\n    &lt;/span&gt;\n   &lt;/td&gt;\n   &lt;td class=&quot;windspeed max&quot;&gt;\n    &lt;span class=&quot;mph&quot;&gt;\n     -\n    &lt;/span&gt;\n    &lt;span class=&quot;mps&quot; style=&quot;display:none&quot;&gt;\n     -\n    &lt;/span&gt;\n   &lt;/td&gt;\n   &lt;td class=&quot;windspeed avg&quot;&gt;\n    &lt;span class=&quot;mph&quot;&gt;\n     -\n    &lt;/span&gt;\n    &lt;span class=&quot;mps&quot; style=&quot;display:none&quot;&gt;\n     -\n    &lt;/span&gt;\n   &lt;/td&gt;\n   &lt;td class=&quot;windspeed min&quot;&gt;\n    &lt;span class=&quot;mph&quot;&gt;\n     -\n    &lt;/span&gt;\n    &lt;span class=&quot;mps&quot; style=&quot;display:none&quot;&gt;\n     -\n    &lt;/span&gt;\n   &lt;/td&gt;\n   &lt;td class=&quot;windspeed point&quot;&gt;\n    n/a\n   &lt;/td&gt;\n   &lt;td class=&quot;pressure max&quot;&gt;\n    -\n   &lt;/td&gt;\n   &lt;td class=&quot;pressure avg&quot;&gt;\n    -\n   &lt;/td&gt;\n   &lt;td class=&quot;pressure min&quot;&gt;\n    -\n   &lt;/td&gt;\n  &lt;/tr&gt;\n  &lt;tr&gt;\n   &lt;th class=&quot;sol&quot; scope=&quot;row&quot;&gt;\n    Oct. 1, 2020\n   &lt;/th&gt;\n   &lt;th class=&quot;sol&quot; scope=&quot;row&quot;&gt;\n    657\n   &lt;/th&gt;\n   &lt;td class=&quot;temperature max&quot;&gt;\n    &lt;span class=&quot;fahrenheit&quot;&gt;\n     &lt;nobr&gt;\n      -0.3° F\n     &lt;/nobr&gt;\n    &lt;/span&gt;\n    &lt;span class=&quot;celsius&quot; style=&quot;display: none;&quot;&gt;\n     &lt;nobr&gt;\n      -18° C\n     &lt;/nobr&gt;\n    &lt;/span&gt;\n   &lt;/td&gt;\n   &lt;td class=&quot;temperature avg&quot;&gt;\n    &lt;span class=&quot;fahrenheit&quot;&gt;\n     &lt;nobr&gt;\n      -92.8° F\n     &lt;/nobr&gt;\n    &lt;/span&gt;\n    &lt;span class=&quot;celsius&quot; style=&quot;display: none;&quot;&gt;\n     &lt;nobr&gt;\n      -69.3° C\n     &lt;/nobr&gt;\n    &lt;/span&gt;\n   &lt;/td&gt;\n   &lt;td class=&quot;temperature min&quot;&gt;\n    &lt;span class=&quot;fahrenheit&quot;&gt;\n     &lt;nobr&gt;\n      -142.9° F\n     &lt;/nobr&gt;\n    &lt;/span&gt;\n    &lt;span class=&quot;celsius&quot; style=&quot;display: none;&quot;&gt;\n     &lt;nobr&gt;\n      -97.2° C\n     &lt;/nobr&gt;\n    &lt;/span&gt;\n   &lt;/td&gt;\n   &lt;td class=&quot;windspeed max&quot;&gt;\n    &lt;span class=&quot;mph&quot;&gt;\n     51.7\n    &lt;/span&gt;\n    &lt;span class=&quot;mps&quot; style=&quot;display:none&quot;&gt;\n     23.1\n    &lt;/span&gt;\n   &lt;/td&gt;\n   &lt;td class=&quot;windspeed avg&quot;&gt;\n    &lt;span class=&quot;mph&quot;&gt;\n     17.9\n    &lt;/span&gt;\n    &lt;span class=&quot;mps&quot; style=&quot;display:none&quot;&gt;\n     8\n    &lt;/span&gt;\n   &lt;/td&gt;\n   &lt;td class=&quot;windspeed min&quot;&gt;\n    &lt;span class=&quot;mph&quot;&gt;\n     1.2\n    &lt;/span&gt;\n    &lt;span class=&quot;mps&quot; style=&quot;display:none&quot;&gt;\n     0.5\n    &lt;/span&gt;\n   &lt;/td&gt;\n   &lt;td class=&quot;windspeed point&quot;&gt;\n    WNW\n   &lt;/td&gt;\n   &lt;td class=&quot;pressure max&quot;&gt;\n    780\n   &lt;/td&gt;\n   &lt;td class=&quot;pressure avg&quot;&gt;\n    763.6\n   &lt;/td&gt;\n   &lt;td class=&quot;pressure min&quot;&gt;\n    732\n   &lt;/td&gt;\n  &lt;/tr&gt;\n  &lt;tr&gt;\n   &lt;th class=&quot;sol&quot; scope=&quot;row&quot;&gt;\n    Sep. 30, 2020\n   &lt;/th&gt;\n   &lt;th class=&quot;sol&quot; scope=&quot;row&quot;&gt;\n    656\n   &lt;/th&gt;\n   &lt;td class=&quot;temperature max&quot;&gt;\n    &lt;span class=&quot;fahrenheit&quot;&gt;\n     &lt;nobr&gt;\n      -3.3° F\n     &lt;/nobr&gt;\n    &lt;/span&gt;\n    &lt;span class=&quot;celsius&quot; style=&quot;display: none;&quot;&gt;\n     &lt;nobr&gt;\n      -19.6° C\n     &lt;/nobr&gt;\n    &lt;/span&gt;\n   &lt;/td&gt;\n   &lt;td class=&quot;temperature avg&quot;&gt;\n    &lt;span class=&quot;fahrenheit&quot;&gt;\n     &lt;nobr&gt;\n      -83.1° F\n     &lt;/nobr&gt;\n    &lt;/span&gt;\n    &lt;span class=&quot;celsius&quot; style=&quot;display: none;&quot;&gt;\n     &lt;nobr&gt;\n      -63.9° C\n     &lt;/nobr&gt;\n    &lt;/span&gt;\n   &lt;/td&gt;\n   &lt;td class=&quot;temperature min&quot;&gt;\n    &lt;span class=&quot;fahrenheit&quot;&gt;\n     &lt;nobr&gt;\n      -143.1° F\n     &lt;/nobr&gt;\n    &lt;/span&gt;\n    &lt;span class=&quot;celsius&quot; style=&quot;display: none;&quot;&gt;\n     &lt;nobr&gt;\n      -97.3° C\n     &lt;/nobr&gt;\n    &lt;/span&gt;\n   &lt;/td&gt;\n   &lt;td class=&quot;windspeed max&quot;&gt;\n    &lt;span class=&quot;mph&quot;&gt;\n     49\n    &lt;/span&gt;\n    &lt;span class=&quot;mps&quot; style=&quot;display:none&quot;&gt;\n     21.9\n    &lt;/span&gt;\n   &lt;/td&gt;\n   &lt;td class=&quot;windspeed avg&quot;&gt;\n    &lt;span class=&quot;mph&quot;&gt;\n     19.2\n    &lt;/span&gt;\n    &lt;span class=&quot;mps&quot; style=&quot;display:none&quot;&gt;\n     8.6\n    &lt;/span&gt;\n   &lt;/td&gt;\n   &lt;td class=&quot;windspeed min&quot;&gt;\n    &lt;span class=&quot;mph&quot;&gt;\n     2.4\n    &lt;/span&gt;\n    &lt;span class=&quot;mps&quot; style=&quot;display:none&quot;&gt;\n     1.1\n    &lt;/span&gt;\n   &lt;/td&gt;\n   &lt;td class=&quot;windspeed point&quot;&gt;\n    WNW\n   &lt;/td&gt;\n   &lt;td class=&quot;pressure max&quot;&gt;\n    783\n   &lt;/td&gt;\n   &lt;td class=&quot;pressure avg&quot;&gt;\n    765.1\n   &lt;/td&gt;\n   &lt;td class=&quot;pressure min&quot;&gt;\n    735.9\n   &lt;/td&gt;\n  &lt;/tr&gt;\n  &lt;tr&gt;\n   &lt;th class=&quot;sol&quot; scope=&quot;row&quot;&gt;\n    Sep. 29, 2020\n   &lt;/th&gt;\n   &lt;th class=&quot;sol&quot; scope=&quot;row&quot;&gt;\n    655\n   &lt;/th&gt;\n   &lt;td class=&quot;temperature max&quot;&gt;\n    &lt;span class=&quot;fahrenheit&quot;&gt;\n     &lt;nobr&gt;\n      -0.3° F\n     &lt;/nobr&gt;\n    &lt;/span&gt;\n    &lt;span class=&quot;celsius&quot; style=&quot;display: none;&quot;&gt;\n     &lt;nobr&gt;\n      -18° C\n     &lt;/nobr&gt;\n    &lt;/span&gt;\n   &lt;/td&gt;\n   &lt;td class=&quot;temperature avg&quot;&gt;\n    &lt;span class=&quot;fahrenheit&quot;&gt;\n     &lt;nobr&gt;\n      -82.2° F\n     &lt;/nobr&gt;\n    &lt;/span&gt;\n    &lt;span class=&quot;celsius&quot; style=&quot;display: none;&quot;&gt;\n     &lt;nobr&gt;\n      -63.5° C\n     &lt;/nobr&gt;\n    &lt;/span&gt;\n   &lt;/td&gt;\n   &lt;td class=&quot;temperature min&quot;&gt;\n    &lt;span class=&quot;fahrenheit&quot;&gt;\n     &lt;nobr&gt;\n      -139.5° F\n     &lt;/nobr&gt;\n    &lt;/span&gt;\n    &lt;span class=&quot;celsius&quot; style=&quot;display: none;&quot;&gt;\n     &lt;nobr&gt;\n      -95.3° C\n     &lt;/nobr&gt;\n    &lt;/span&gt;\n   &lt;/td&gt;\n   &lt;td class=&quot;windspeed max&quot;&gt;\n    &lt;span class=&quot;mph&quot;&gt;\n     47.4\n    &lt;/span&gt;\n    &lt;span class=&quot;mps&quot; style=&quot;display:none&quot;&gt;\n     21.2\n    &lt;/span&gt;\n   &lt;/td&gt;\n   &lt;td class=&quot;windspeed avg&quot;&gt;\n    &lt;span class=&quot;mph&quot;&gt;\n     19.3\n    &lt;/span&gt;\n    &lt;span class=&quot;mps&quot; style=&quot;display:none&quot;&gt;\n     8.6\n    &lt;/span&gt;\n   &lt;/td&gt;\n   &lt;td class=&quot;windspeed min&quot;&gt;\n    &lt;span class=&quot;mph&quot;&gt;\n     3.4\n    &lt;/span&gt;\n    &lt;span class=&quot;mps&quot; style=&quot;display:none&quot;&gt;\n     1.5\n    &lt;/span&gt;\n   &lt;/td&gt;\n   &lt;td class=&quot;windspeed point&quot;&gt;\n    WNW\n   &lt;/td&gt;\n   &lt;td class=&quot;pressure max&quot;&gt;\n    783.3\n   &lt;/td&gt;\n   &lt;td class=&quot;pressure avg&quot;&gt;\n    766.1\n   &lt;/td&gt;\n   &lt;td class=&quot;pressure min&quot;&gt;\n    734.2\n   &lt;/td&gt;\n  &lt;/tr&gt;\n  &lt;tr&gt;\n   &lt;th class=&quot;sol&quot; scope=&quot;row&quot;&gt;\n    Sep. 28, 2020\n   &lt;/th&gt;\n   &lt;th class=&quot;sol&quot; scope=&quot;row&quot;&gt;\n    654\n   &lt;/th&gt;\n   &lt;td class=&quot;temperature max&quot;&gt;\n    &lt;span class=&quot;fahrenheit&quot;&gt;\n     &lt;nobr&gt;\n      4° F\n     &lt;/nobr&gt;\n    &lt;/span&gt;\n    &lt;span class=&quot;celsius&quot; style=&quot;display: none;&quot;&gt;\n     &lt;nobr&gt;\n      -15.5° C\n     &lt;/nobr&gt;\n    &lt;/span&gt;\n   &lt;/td&gt;\n   &lt;td class=&quot;temperature avg&quot;&gt;\n    &lt;span class=&quot;fahrenheit&quot;&gt;\n     &lt;nobr&gt;\n      -81.3° F\n     &lt;/nobr&gt;\n    &lt;/span&gt;\n    &lt;span class=&quot;celsius&quot; style=&quot;display: none;&quot;&gt;\n     &lt;nobr&gt;\n      -62.9° C\n     &lt;/nobr&gt;\n    &lt;/span&gt;\n   &lt;/td&gt;\n   &lt;td class=&quot;temperature min&quot;&gt;\n    &lt;span class=&quot;fahrenheit&quot;&gt;\n     &lt;nobr&gt;\n      -140.5° F\n     &lt;/nobr&gt;\n    &lt;/span&gt;\n    &lt;span class=&quot;celsius&quot; style=&quot;display: none;&quot;&gt;\n     &lt;nobr&gt;\n      -95.8° C\n     &lt;/nobr&gt;\n    &lt;/span&gt;\n   &lt;/td&gt;\n   &lt;td class=&quot;windspeed max&quot;&gt;\n    &lt;span class=&quot;mph&quot;&gt;\n     46.4\n    &lt;/span&gt;\n    &lt;span class=&quot;mps&quot; style=&quot;display:none&quot;&gt;\n     20.8\n    &lt;/span&gt;\n   &lt;/td&gt;\n   &lt;td class=&quot;windspeed avg&quot;&gt;\n    &lt;span class=&quot;mph&quot;&gt;\n     15.2\n    &lt;/span&gt;\n    &lt;span class=&quot;mps&quot; style=&quot;display:none&quot;&gt;\n     6.8\n    &lt;/span&gt;\n   &lt;/td&gt;\n   &lt;td class=&quot;windspeed min&quot;&gt;\n    &lt;span class=&quot;mph&quot;&gt;\n     1.7\n    &lt;/span&gt;\n    &lt;span class=&quot;mps&quot; style=&quot;display:none&quot;&gt;\n     0.8\n    &lt;/span&gt;\n   &lt;/td&gt;\n   &lt;td class=&quot;windspeed point&quot;&gt;\n    WNW\n   &lt;/td&gt;\n   &lt;td class=&quot;pressure max&quot;&gt;\n    779.4\n   &lt;/td&gt;\n   &lt;td class=&quot;pressure avg&quot;&gt;\n    763.2\n   &lt;/td&gt;\n   &lt;td class=&quot;pressure min&quot;&gt;\n    735.7\n   &lt;/td&gt;\n  &lt;/tr&gt;\n  &lt;tr&gt;\n   &lt;th class=&quot;sol&quot; scope=&quot;row&quot;&gt;\n    Sep. 27, 2020\n   &lt;/th&gt;\n   &lt;th class=&quot;sol&quot; scope=&quot;row&quot;&gt;\n    653\n   &lt;/th&gt;\n   &lt;td class=&quot;temperature max&quot;&gt;\n    &lt;span class=&quot;fahrenheit&quot;&gt;\n     &lt;nobr&gt;\n      13° F\n     &lt;/nobr&gt;\n    &lt;/span&gt;\n    &lt;span class=&quot;celsius&quot; style=&quot;display: none;&quot;&gt;\n     &lt;nobr&gt;\n      -10.6° C\n     &lt;/nobr&gt;\n    &lt;/span&gt;\n   &lt;/td&gt;\n   &lt;td class=&quot;temperature avg&quot;&gt;\n    &lt;span class=&quot;fahrenheit&quot;&gt;\n     &lt;nobr&gt;\n      -90.9° F\n     &lt;/nobr&gt;\n    &lt;/span&gt;\n    &lt;span class=&quot;celsius&quot; style=&quot;display: none;&quot;&gt;\n     &lt;nobr&gt;\n      -68.3° C\n     &lt;/nobr&gt;\n    &lt;/span&gt;\n   &lt;/td&gt;\n   &lt;td class=&quot;temperature min&quot;&gt;\n    &lt;span class=&quot;fahrenheit&quot;&gt;\n     &lt;nobr&gt;\n      -141.3° F\n     &lt;/nobr&gt;\n    &lt;/span&gt;\n    &lt;span class=&quot;celsius&quot; style=&quot;display: none;&quot;&gt;\n     &lt;nobr&gt;\n      -96.3° C\n     &lt;/nobr&gt;\n    &lt;/span&gt;\n   &lt;/td&gt;\n   &lt;td class=&quot;windspeed max&quot;&gt;\n    &lt;span class=&quot;mph&quot;&gt;\n     40.2\n    &lt;/span&gt;\n    &lt;span class=&quot;mps&quot; style=&quot;display:none&quot;&gt;\n     18\n    &lt;/span&gt;\n   &lt;/td&gt;\n   &lt;td class=&quot;windspeed avg&quot;&gt;\n    &lt;span class=&quot;mph&quot;&gt;\n     13.3\n    &lt;/span&gt;\n    &lt;span class=&quot;mps&quot; style=&quot;display:none&quot;&gt;\n     6\n    &lt;/span&gt;\n   &lt;/td&gt;\n   &lt;td class=&quot;windspeed min&quot;&gt;\n    &lt;span class=&quot;mph&quot;&gt;\n     0.5\n    &lt;/span&gt;\n    &lt;span class=&quot;mps&quot; style=&quot;display:none&quot;&gt;\n     0.2\n    &lt;/span&gt;\n   &lt;/td&gt;\n   &lt;td class=&quot;windspeed point&quot;&gt;\n    W\n   &lt;/td&gt;\n   &lt;td class=&quot;pressure max&quot;&gt;\n    780.8\n   &lt;/td&gt;\n   &lt;td class=&quot;pressure avg&quot;&gt;\n    763.7\n   &lt;/td&gt;\n   &lt;td class=&quot;pressure min&quot;&gt;\n    735.6\n   &lt;/td&gt;\n  &lt;/tr&gt;\n  &lt;tr&gt;\n   &lt;th class=&quot;sol&quot; scope=&quot;row&quot;&gt;\n    Sep. 26, 2020\n   &lt;/th&gt;\n   &lt;th class=&quot;sol&quot; scope=&quot;row&quot;&gt;\n    652\n   &lt;/th&gt;\n   &lt;td class=&quot;temperature max&quot;&gt;\n    &lt;span class=&quot;fahrenheit&quot;&gt;\n     &lt;nobr&gt;\n      4° F\n     &lt;/nobr&gt;\n    &lt;/span&gt;\n    &lt;span class=&quot;celsius&quot; style=&quot;display: none;&quot;&gt;\n     &lt;nobr&gt;\n      -15.6° C\n     &lt;/nobr&gt;\n    &lt;/span&gt;\n   &lt;/td&gt;\n   &lt;td class=&quot;temperature avg&quot;&gt;\n    &lt;span class=&quot;fahrenheit&quot;&gt;\n     &lt;nobr&gt;\n      -82.1° F\n     &lt;/nobr&gt;\n    &lt;/span&gt;\n    &lt;span class=&quot;celsius&quot; style=&quot;display: none;&quot;&gt;\n     &lt;nobr&gt;\n      -63.4° C\n     &lt;/nobr&gt;\n    &lt;/span&gt;\n   &lt;/td&gt;\n   &lt;td class=&quot;temperature min&quot;&gt;\n    &lt;span class=&quot;fahrenheit&quot;&gt;\n     &lt;nobr&gt;\n      -141° F\n     &lt;/nobr&gt;\n    &lt;/span&gt;\n    &lt;span class=&quot;celsius&quot; style=&quot;display: none;&quot;&gt;\n     &lt;nobr&gt;\n      -96.1° C\n     &lt;/nobr&gt;\n    &lt;/span&gt;\n   &lt;/td&gt;\n   &lt;td class=&quot;windspeed max&quot;&gt;\n    &lt;span class=&quot;mph&quot;&gt;\n     41.6\n    &lt;/span&gt;\n    &lt;span class=&quot;mps&quot; style=&quot;display:none&quot;&gt;\n     18.6\n    &lt;/span&gt;\n   &lt;/td&gt;\n   &lt;td class=&quot;windspeed avg&quot;&gt;\n    &lt;span class=&quot;mph&quot;&gt;\n     14.3\n    &lt;/span&gt;\n    &lt;span class=&quot;mps&quot; style=&quot;display:none&quot;&gt;\n     6.4\n    &lt;/span&gt;\n   &lt;/td&gt;\n   &lt;td class=&quot;windspeed min&quot;&gt;\n    &lt;span class=&quot;mph&quot;&gt;\n     0.6\n    &lt;/span&gt;\n    &lt;span class=&quot;mps&quot; style=&quot;display:none&quot;&gt;\n     0.3\n    &lt;/span&gt;\n   &lt;/td&gt;\n   &lt;td class=&quot;windspeed point&quot;&gt;\n    WNW\n   &lt;/td&gt;\n   &lt;td class=&quot;pressure max&quot;&gt;\n    779.1\n   &lt;/td&gt;\n   &lt;td class=&quot;pressure avg&quot;&gt;\n    762.2\n   &lt;/td&gt;\n   &lt;td class=&quot;pressure min&quot;&gt;\n    734.8\n   &lt;/td&gt;\n  &lt;/tr&gt;\n &lt;/tbody&gt;\n&lt;/table&gt;\nhttps://astropedia.astrogeology.usgs.gov/download/Mars/Viking/cerberus_enhanced.tif/full.jpg\nhttps://astropedia.astrogeology.usgs.gov/download/Mars/Viking/schiaparelli_enhanced.tif/full.jpg\nhttps://astropedia.astrogeology.usgs.gov/download/Mars/Viking/syrtis_major_enhanced.tif/full.jpg\nhttps://astropedia.astrogeology.usgs.gov/download/Mars/Viking/valles_marineris_enhanced.tif/full.jpg\n"
    }
   ],
   "source": [
    "# Import Splinter, BeautifulSoup, and Pandas\n",
    "from splinter import Browser\n",
    "from bs4 import BeautifulSoup as soup\n",
    "import pandas as pd\n",
    "import time\n",
    "# Path to chromedriver\n",
    "#!which chromedriver\n",
    "\n",
    "# Set the executable path and initialize the chrome browser in splinter\n",
    "executable_path = {'executable_path': 'chromedriver.exe'}\n",
    "browser = Browser('chrome', **executable_path)\n",
    "\n",
    "### Visit the NASA Mars News Site\n",
    "\n",
    "# Visit the mars nasa news site\n",
    "url = 'https://mars.nasa.gov/news/'\n",
    "browser.visit(url)\n",
    "\n",
    "# Optional delay for loading the page\n",
    "browser.is_element_present_by_css(\"ul.item_list li.slide\", wait_time=1)\n",
    "\n",
    "# Convert the browser html to a soup object and then quit the browser\n",
    "html = browser.html\n",
    "news_soup = soup(html, 'html.parser')\n",
    "\n",
    "slide_elem = news_soup.select_one('ul.item_list li.slide')\n",
    "\n",
    "slide_elem.find(\"div\", class_='content_title')\n",
    "\n",
    "# Use the parent element to find the first a tag and save it as `news_title`\n",
    "news_title = slide_elem.find(\"div\", class_='content_title').get_text()\n",
    "news_title\n",
    "\n",
    "# Use the parent element to find the paragraph text\n",
    "news_p = slide_elem.find('div', class_=\"article_teaser_body\").get_text()\n",
    "news_p\n",
    "\n",
    "### JPL Space Images Featured Image\n",
    "\n",
    "# Visit URL\n",
    "url = 'https://www.jpl.nasa.gov/spaceimages/?search=&category=Mars'\n",
    "browser.visit(url)\n",
    "\n",
    "# Find and click the full image button\n",
    "full_image_elem = browser.find_by_id('full_image')\n",
    "full_image_elem.click()\n",
    "\n",
    "# Find the more info button and click that\n",
    "browser.is_element_present_by_text('more info', wait_time=1)\n",
    "more_info_elem = browser.links.find_by_partial_text('more info')\n",
    "more_info_elem.click()\n",
    "\n",
    "# Parse the resulting html with soup\n",
    "html = browser.html\n",
    "img_soup = soup(html, 'html.parser')\n",
    "\n",
    "# find the relative image url\n",
    "img_url_rel = img_soup.select_one('figure.lede a img').get(\"src\")\n",
    "img_url_rel\n",
    "\n",
    "# Use the base url to create an absolute url\n",
    "img_url = f'https://www.jpl.nasa.gov{img_url_rel}'\n",
    "img_url\n",
    "\n",
    "### Mars Facts\n",
    "\n",
    "df = pd.read_html('http://space-facts.com/mars/')[0]\n",
    "\n",
    "df.head()\n",
    "\n",
    "df.columns=['Description', 'Mars']\n",
    "df.set_index('Description', inplace=True)\n",
    "df\n",
    "\n",
    "df.to_html()\n",
    "\n",
    "### Mars Weather\n",
    "\n",
    "# Visit the weather website\n",
    "url = 'https://mars.nasa.gov/insight/weather/'\n",
    "browser.visit(url)\n",
    "\n",
    "# Parse the data\n",
    "html = browser.html\n",
    "weather_soup = soup(html, 'html.parser')\n",
    "\n",
    "# Scrape the Daily Weather Report table\n",
    "weather_table = weather_soup.find('table', class_='mb_table')\n",
    "print(weather_table.prettify())\n",
    "\n",
    "# D1: Scrape High-Resolution Mars’ Hemisphere Images and Titles\n",
    "\n",
    "### Hemispheres\n",
    "\n",
    "# 1. Use browser to visit the URL \n",
    "url = 'https://astrogeology.usgs.gov/search/results?q=hemisphere+enhanced&k1=target&v1=Mars'\n",
    "browser.visit(url)\n",
    "\n",
    "# 2. Create a list to hold the images and titles.\n",
    "hemisphere_image_urls = []\n",
    "\n",
    "# 3. Write code to retrieve the image urls and titles for each hemisphere.\n",
    "image_link = browser.links.find_by_partial_text('Hemisphere Enhanced')\n",
    "\n",
    "\n",
    "for i in range(len(image_link)):\n",
    "    image_link[i].click()\n",
    "    time.sleep(1) \n",
    "    html = browser.html\n",
    "    image_soup = soup(html, 'html.parser')\n",
    "    img_element = image_soup.find(\"div\", class_='downloads')\n",
    "    image_url = img_element.find('a').get('href')\n",
    "    hemisphere_image_urls.append(image_url)\n",
    "    browser.back()\n",
    "    time.sleep(1)\n",
    "    image_link = browser.links.find_by_partial_text('Hemisphere Enhanced')\n",
    "\n",
    "browser.quit()\n",
    "for url in hemisphere_image_urls:\n",
    "    print(url)\n",
    "\n"
   ]
  }
 ],
 "metadata": {
  "kernelspec": {
   "display_name": "PythonData",
   "language": "python",
   "name": "pythondata"
  },
  "language_info": {
   "codemirror_mode": {
    "name": "ipython",
    "version": 3
   },
   "file_extension": ".py",
   "mimetype": "text/x-python",
   "name": "python",
   "nbconvert_exporter": "python",
   "pygments_lexer": "ipython3",
   "version": "3.6.10-final"
  }
 },
 "nbformat": 4,
 "nbformat_minor": 4
}